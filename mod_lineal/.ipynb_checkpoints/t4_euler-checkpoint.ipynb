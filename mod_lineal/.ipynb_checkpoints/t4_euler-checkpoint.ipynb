{
 "cells": [
  {
   "cell_type": "markdown",
   "metadata": {},
   "source": [
    "## Tarea 4: 6, ii\n",
    "<i>\n",
    "Maximiliano Vaca Montejano <br>\n",
    "364897 <br>\n",
    "maximiliano.vaca@uabc.edu.mx\n",
    "</i>"
   ]
  },
  {
   "cell_type": "markdown",
   "metadata": {},
   "source": [
    "Aproxima $x(1)$ usando $h = 0.05$ si\n",
    "\n",
    "$$ \\frac{dx}{dt} = \\frac{x}{2(t+1)}$$\n",
    "\n",
    "con $x(0.5) = 1$"
   ]
  },
  {
   "cell_type": "code",
   "execution_count": 40,
   "metadata": {},
   "outputs": [],
   "source": [
    "import numpy as np"
   ]
  },
  {
   "cell_type": "code",
   "execution_count": 37,
   "metadata": {},
   "outputs": [
    {
     "data": {
      "text/plain": [
       "array([0.5 , 0.55, 0.6 , 0.65, 0.7 , 0.75, 0.8 , 0.85, 0.9 , 0.95, 1.  ])"
      ]
     },
     "execution_count": 37,
     "metadata": {},
     "output_type": "execute_result"
    }
   ],
   "source": [
    "#paso\n",
    "h = 0.05\n",
    "#intervalo de tiempos\n",
    "t = np.arange(0.5, 1.05, h)\n",
    "t"
   ]
  },
  {
   "cell_type": "code",
   "execution_count": 38,
   "metadata": {},
   "outputs": [
    {
     "data": {
      "text/plain": [
       "array([1., 0., 0., 0., 0., 0., 0., 0., 0., 0., 0.])"
      ]
     },
     "execution_count": 38,
     "metadata": {},
     "output_type": "execute_result"
    }
   ],
   "source": [
    "#resultados\n",
    "x = np.zeros(len(t))\n",
    "#condicion inicial\n",
    "x[0] = 1\n",
    "x"
   ]
  },
  {
   "cell_type": "code",
   "execution_count": 39,
   "metadata": {},
   "outputs": [
    {
     "name": "stdout",
     "output_type": "stream",
     "text": [
      "\n",
      "para t = 0.50 x = 1.0\n",
      "x_i+1 = 1.17\n",
      "\n",
      "para t = 0.55 x = 1.1666666666666667\n",
      "x_i+1 = 1.35\n",
      "\n",
      "para t = 0.60 x = 1.3548387096774195\n",
      "x_i+1 = 1.57\n",
      "\n",
      "para t = 0.65 x = 1.5665322580645162\n",
      "x_i+1 = 1.80\n",
      "\n",
      "para t = 0.70 x = 1.8038856304985336\n",
      "x_i+1 = 2.07\n",
      "\n",
      "para t = 0.75 x = 2.069162929101259\n",
      "x_i+1 = 2.36\n",
      "\n",
      "para t = 0.80 x = 2.3647576332585816\n",
      "x_i+1 = 2.69\n",
      "\n",
      "para t = 0.85 x = 2.6931961934333843\n",
      "x_i+1 = 3.06\n",
      "\n",
      "para t = 0.90 x = 3.0571416249784362\n",
      "x_i+1 = 3.46\n",
      "\n",
      "para t = 0.95 x = 3.459397101949283\n",
      "x_i+1 = 3.90\n",
      "\n",
      "========================================\n",
      "por lo tanto x(1) = 3.9029095509171396\n",
      "\n",
      "========================================\n"
     ]
    }
   ],
   "source": [
    "for i in range(1, len(t)):\n",
    "    print(\"\\npara t = {:.2f} x = {}\".format(t[i-1], x[i-1]))\n",
    "    x[i] = x[i-1] * ( 1 + 1 /( 4 * (t[i-1] + 1) ) )\n",
    "    print(\"x_i+1 = {:.2f}\".format(x[i]))\n",
    "\n",
    "print(\"\\n========================================\")\n",
    "print(\"por lo tanto x(1) = {}\".format(x[-1]))\n",
    "print(\"\\n========================================\")\n"
   ]
  }
 ],
 "metadata": {
  "kernelspec": {
   "display_name": "Python 3",
   "language": "python",
   "name": "python3"
  },
  "language_info": {
   "codemirror_mode": {
    "name": "ipython",
    "version": 3
   },
   "file_extension": ".py",
   "mimetype": "text/x-python",
   "name": "python",
   "nbconvert_exporter": "python",
   "pygments_lexer": "ipython3",
   "version": "3.10.12"
  }
 },
 "nbformat": 4,
 "nbformat_minor": 2
}
