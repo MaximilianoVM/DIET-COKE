{
 "cells": [
  {
   "cell_type": "markdown",
   "metadata": {},
   "source": [
    "## Tarea 4: 6, ii\n",
    "<i>\n",
    "Maximiliano Vaca Montejano <br>\n",
    "364897 <br>\n",
    "maximiliano.vaca@uabc.edu.mx\n",
    "</i>"
   ]
  },
  {
   "cell_type": "markdown",
   "metadata": {},
   "source": [
    "Aproxima $x(1)$ usando $h = 0.05$ si\n",
    "\n",
    "$$ \\frac{dx}{dt} = \\frac{x}{2(t+1)}$$\n",
    "\n",
    "con $x(0.5) = 1$"
   ]
  },
  {
   "cell_type": "code",
   "execution_count": 1,
   "metadata": {},
   "outputs": [],
   "source": [
    "import numpy as np"
   ]
  },
  {
   "cell_type": "code",
   "execution_count": 2,
   "metadata": {},
   "outputs": [
    {
     "data": {
      "text/plain": [
       "array([0.5 , 0.55, 0.6 , 0.65, 0.7 , 0.75, 0.8 , 0.85, 0.9 , 0.95, 1.  ])"
      ]
     },
     "execution_count": 2,
     "metadata": {},
     "output_type": "execute_result"
    }
   ],
   "source": [
    "#paso\n",
    "h = 0.05\n",
    "#intervalo de tiempos\n",
    "t = np.arange(0.5, 1.05, h)\n",
    "t"
   ]
  },
  {
   "cell_type": "code",
   "execution_count": 3,
   "metadata": {},
   "outputs": [
    {
     "data": {
      "text/plain": [
       "array([1., 0., 0., 0., 0., 0., 0., 0., 0., 0., 0.])"
      ]
     },
     "execution_count": 3,
     "metadata": {},
     "output_type": "execute_result"
    }
   ],
   "source": [
    "#resultados\n",
    "x = np.zeros(len(t))\n",
    "#condicion inicial\n",
    "x[0] = 1\n",
    "x"
   ]
  },
  {
   "cell_type": "code",
   "execution_count": 4,
   "metadata": {},
   "outputs": [
    {
     "name": "stdout",
     "output_type": "stream",
     "text": [
      "\n",
      "para t = 0.50 x = 1.0\n",
      "x_i+1 = 1.02\n",
      "\n",
      "para t = 0.55 x = 1.0166666666666666\n",
      "x_i+1 = 1.03\n",
      "\n",
      "para t = 0.60 x = 1.0330645161290322\n",
      "x_i+1 = 1.05\n",
      "\n",
      "para t = 0.65 x = 1.0492061491935483\n",
      "x_i+1 = 1.07\n",
      "\n",
      "para t = 0.70 x = 1.0651032120601172\n",
      "x_i+1 = 1.08\n",
      "\n",
      "para t = 0.75 x = 1.080766494590413\n",
      "x_i+1 = 1.10\n",
      "\n",
      "para t = 0.80 x = 1.0962060159417044\n",
      "x_i+1 = 1.11\n",
      "\n",
      "para t = 0.85 x = 1.1114310994964502\n",
      "x_i+1 = 1.13\n",
      "\n",
      "para t = 0.90 x = 1.1264504386788348\n",
      "x_i+1 = 1.14\n",
      "\n",
      "para t = 0.95 x = 1.1412721549772404\n",
      "x_i+1 = 1.16\n",
      "\n",
      "========================================\n",
      "por lo tanto x(1) = 1.1559038492718203\n",
      "\n",
      "========================================\n"
     ]
    }
   ],
   "source": [
    "for i in range(1, len(t)):\n",
    "    print(\"\\npara t = {:.2f} x = {}\".format(t[i-1], x[i-1]))\n",
    "    x[i] = x[i-1] * ( 1 + 1 /( 40 * (t[i-1] + 1) ) )\n",
    "    print(\"x_i+1 = {:.2f}\".format(x[i]))\n",
    "\n",
    "print(\"\\n========================================\")\n",
    "print(\"por lo tanto x(1) = {}\".format(x[-1]))\n",
    "print(\"\\n========================================\")\n"
   ]
  }
 ],
 "metadata": {
  "kernelspec": {
   "display_name": "Python 3 (ipykernel)",
   "language": "python",
   "name": "python3"
  },
  "language_info": {
   "codemirror_mode": {
    "name": "ipython",
    "version": 3
   },
   "file_extension": ".py",
   "mimetype": "text/x-python",
   "name": "python",
   "nbconvert_exporter": "python",
   "pygments_lexer": "ipython3",
   "version": "3.10.12"
  }
 },
 "nbformat": 4,
 "nbformat_minor": 4
}
