{
 "cells": [
  {
   "cell_type": "code",
   "execution_count": 1,
   "metadata": {},
   "outputs": [],
   "source": [
    "import os\n",
    "from pyraf import iraf"
   ]
  },
  {
   "cell_type": "code",
   "execution_count": 2,
   "metadata": {},
   "outputs": [],
   "source": [
    "\n",
    "# Configurar variables de entorno para IRAF\n",
    "#os.environ['iraf'] = '/usr/lib/iraf/iraf/'  # Ajusta esta ruta según tu instalación\n",
    "#os.environ['IRAFARCH'] = 'linux64'\n",
    "\n",
    "# Iniciar IRAF\n",
    "iraf.noao(_doprint=0)\n",
    "iraf.imred(_doprint=0)\n",
    "iraf.ccdred(_doprint=0)"
   ]
  },
  {
   "cell_type": "code",
   "execution_count": 3,
   "metadata": {},
   "outputs": [
    {
     "name": "stderr",
     "output_type": "stream",
     "text": [
      "Killing IRAF task `display'\n"
     ]
    },
    {
     "ename": "IrafError",
     "evalue": "Error running IRAF task display\nIRAF task terminated abnormally\nERROR (1121, \"FXF: EOF encountered while reading FITS file (/home/max/workspace/DIET-COKE/IRAF/pg_dr_phot/NIR/._dark10_5.fits)\u0007\")\n",
     "output_type": "error",
     "traceback": [
      "\u001b[0;31m---------------------------------------------------------------------------\u001b[0m",
      "\u001b[0;31mIrafProcessError\u001b[0m                          Traceback (most recent call last)",
      "File \u001b[0;32m/usr/lib/python3/dist-packages/pyraf/iraftask.py:880\u001b[0m, in \u001b[0;36mIrafTask._run\u001b[0;34m(self, redirKW, specialKW)\u001b[0m\n\u001b[1;32m    879\u001b[0m \u001b[38;5;28;01mtry\u001b[39;00m:\n\u001b[0;32m--> 880\u001b[0m     \u001b[43mirafexecute\u001b[49m\u001b[38;5;241;43m.\u001b[39;49m\u001b[43mIrafExecute\u001b[49m\u001b[43m(\u001b[49m\u001b[38;5;28;43mself\u001b[39;49m\u001b[43m,\u001b[49m\u001b[43m \u001b[49m\u001b[43miraf\u001b[49m\u001b[38;5;241;43m.\u001b[39;49m\u001b[43mgetVarDict\u001b[49m\u001b[43m(\u001b[49m\u001b[43m)\u001b[49m\u001b[43m,\u001b[49m\u001b[43m \u001b[49m\u001b[38;5;241;43m*\u001b[39;49m\u001b[38;5;241;43m*\u001b[39;49m\u001b[43mredirKW\u001b[49m\u001b[43m)\u001b[49m\n\u001b[1;32m    881\u001b[0m \u001b[38;5;28;01mexcept\u001b[39;00m irafexecute\u001b[38;5;241m.\u001b[39mIrafProcessError \u001b[38;5;28;01mas\u001b[39;00m value:\n",
      "File \u001b[0;32m/usr/lib/python3/dist-packages/pyraf/irafexecute.py:371\u001b[0m, in \u001b[0;36mIrafExecute\u001b[0;34m(task, envdict, stdin, stdout, stderr, stdgraph)\u001b[0m\n\u001b[1;32m    370\u001b[0m         exc\u001b[38;5;241m.\u001b[39margs \u001b[38;5;241m=\u001b[39m exc\u001b[38;5;241m.\u001b[39margs \u001b[38;5;241m+\u001b[39m exc2\u001b[38;5;241m.\u001b[39margs\n\u001b[0;32m--> 371\u001b[0m     \u001b[38;5;28;01mraise\u001b[39;00m exc\n\u001b[1;32m    372\u001b[0m \u001b[38;5;28;01melse\u001b[39;00m:\n\u001b[1;32m    373\u001b[0m     \u001b[38;5;66;03m# add to the process cache on successful exit\u001b[39;00m\n",
      "File \u001b[0;32m/usr/lib/python3/dist-packages/pyraf/irafexecute.py:348\u001b[0m, in \u001b[0;36mIrafExecute\u001b[0;34m(task, envdict, stdin, stdout, stderr, stdgraph)\u001b[0m\n\u001b[1;32m    347\u001b[0m \u001b[38;5;28;01mtry\u001b[39;00m:\n\u001b[0;32m--> 348\u001b[0m     \u001b[43mirafprocess\u001b[49m\u001b[38;5;241;43m.\u001b[39;49m\u001b[43mrun\u001b[49m\u001b[43m(\u001b[49m\u001b[43mtask\u001b[49m\u001b[43m,\u001b[49m\u001b[43m \u001b[49m\u001b[43mpstdin\u001b[49m\u001b[38;5;241;43m=\u001b[39;49m\u001b[43mstdin\u001b[49m\u001b[43m,\u001b[49m\u001b[43m \u001b[49m\u001b[43mpstdout\u001b[49m\u001b[38;5;241;43m=\u001b[39;49m\u001b[43mstdout\u001b[49m\u001b[43m,\u001b[49m\u001b[43m \u001b[49m\u001b[43mpstderr\u001b[49m\u001b[38;5;241;43m=\u001b[39;49m\u001b[43mstderr\u001b[49m\u001b[43m)\u001b[49m\n\u001b[1;32m    349\u001b[0m \u001b[38;5;28;01mfinally\u001b[39;00m:\n",
      "File \u001b[0;32m/usr/lib/python3/dist-packages/pyraf/irafexecute.py:512\u001b[0m, in \u001b[0;36mIrafProcess.run\u001b[0;34m(self, task, pstdin, pstdout, pstderr)\u001b[0m\n\u001b[1;32m    510\u001b[0m \u001b[38;5;28;01mtry\u001b[39;00m:\n\u001b[1;32m    511\u001b[0m     \u001b[38;5;66;03m# begin slave mode\u001b[39;00m\n\u001b[0;32m--> 512\u001b[0m     \u001b[38;5;28;43mself\u001b[39;49m\u001b[38;5;241;43m.\u001b[39;49m\u001b[43mslave\u001b[49m\u001b[43m(\u001b[49m\u001b[43m)\u001b[49m\n\u001b[1;32m    513\u001b[0m \u001b[38;5;28;01mfinally\u001b[39;00m:\n",
      "File \u001b[0;32m/usr/lib/python3/dist-packages/pyraf/irafexecute.py:649\u001b[0m, in \u001b[0;36mIrafProcess.slave\u001b[0;34m(self)\u001b[0m\n\u001b[1;32m    648\u001b[0m     errno, text \u001b[38;5;241m=\u001b[39m \u001b[38;5;28mself\u001b[39m\u001b[38;5;241m.\u001b[39m_scanErrno(msg)\n\u001b[0;32m--> 649\u001b[0m     \u001b[38;5;28;01mraise\u001b[39;00m IrafProcessError(\u001b[38;5;124m\"\u001b[39m\u001b[38;5;124mIRAF task terminated abnormally\u001b[39m\u001b[38;5;130;01m\\n\u001b[39;00m\u001b[38;5;124m\"\u001b[39m \u001b[38;5;241m+\u001b[39m\n\u001b[1;32m    650\u001b[0m                            msg,\n\u001b[1;32m    651\u001b[0m                            errno\u001b[38;5;241m=\u001b[39merrno,\n\u001b[1;32m    652\u001b[0m                            errmsg\u001b[38;5;241m=\u001b[39mtext,\n\u001b[1;32m    653\u001b[0m                            errtask\u001b[38;5;241m=\u001b[39m\u001b[38;5;28mself\u001b[39m\u001b[38;5;241m.\u001b[39mtask\u001b[38;5;241m.\u001b[39mgetName())\n\u001b[1;32m    654\u001b[0m \u001b[38;5;28;01melse\u001b[39;00m:\n\u001b[1;32m    655\u001b[0m     \u001b[38;5;66;03m# pattern match to see what this message is\u001b[39;00m\n",
      "\u001b[0;31mIrafProcessError\u001b[0m: IRAF task terminated abnormally\nERROR (1121, \"FXF: EOF encountered while reading FITS file (/home/max/workspace/DIET-COKE/IRAF/pg_dr_phot/NIR/._dark10_5.fits)\u0007\")\n",
      "\nDuring handling of the above exception, another exception occurred:\n",
      "\u001b[0;31mIrafError\u001b[0m                                 Traceback (most recent call last)",
      "Cell \u001b[0;32mIn[3], line 3\u001b[0m\n\u001b[1;32m      1\u001b[0m \u001b[38;5;66;03m# Ejemplo de uso de una tarea de PyRAF\u001b[39;00m\n\u001b[1;32m      2\u001b[0m fits_file \u001b[38;5;241m=\u001b[39m \u001b[38;5;124m\"\u001b[39m\u001b[38;5;124m/home/max/workspace/DIET-COKE/IRAF/pg_dr_phot/NIR/._dark10_5.fits\u001b[39m\u001b[38;5;124m\"\u001b[39m\n\u001b[0;32m----> 3\u001b[0m \u001b[43miraf\u001b[49m\u001b[38;5;241;43m.\u001b[39;49m\u001b[43mdisplay\u001b[49m\u001b[43m(\u001b[49m\u001b[43mfits_file\u001b[49m\u001b[43m,\u001b[49m\u001b[43m \u001b[49m\u001b[38;5;241;43m1\u001b[39;49m\u001b[43m)\u001b[49m\n",
      "File \u001b[0;32m/usr/lib/python3/dist-packages/pyraf/iraftask.py:836\u001b[0m, in \u001b[0;36mIrafTask.__call__\u001b[0;34m(self, *args, **kw)\u001b[0m\n\u001b[1;32m    835\u001b[0m \u001b[38;5;28;01mdef\u001b[39;00m \u001b[38;5;21m__call__\u001b[39m(\u001b[38;5;28mself\u001b[39m, \u001b[38;5;241m*\u001b[39margs, \u001b[38;5;241m*\u001b[39m\u001b[38;5;241m*\u001b[39mkw):\n\u001b[0;32m--> 836\u001b[0m     \u001b[38;5;28;01mreturn\u001b[39;00m \u001b[38;5;28;43mself\u001b[39;49m\u001b[38;5;241;43m.\u001b[39;49m\u001b[43mrun\u001b[49m\u001b[43m(\u001b[49m\u001b[38;5;241;43m*\u001b[39;49m\u001b[43margs\u001b[49m\u001b[43m,\u001b[49m\u001b[43m \u001b[49m\u001b[38;5;241;43m*\u001b[39;49m\u001b[38;5;241;43m*\u001b[39;49m\u001b[43mkw\u001b[49m\u001b[43m)\u001b[49m\n",
      "File \u001b[0;32m/usr/lib/python3/dist-packages/pyraf/iraftask.py:375\u001b[0m, in \u001b[0;36mIrafTask.run\u001b[0;34m(self, *args, **kw)\u001b[0m\n\u001b[1;32m    373\u001b[0m \u001b[38;5;28;01mif\u001b[39;00m executionMonitor:\n\u001b[1;32m    374\u001b[0m     executionMonitor(\u001b[38;5;28mself\u001b[39m)\n\u001b[0;32m--> 375\u001b[0m \u001b[38;5;28;43mself\u001b[39;49m\u001b[38;5;241;43m.\u001b[39;49m\u001b[43m_run\u001b[49m\u001b[43m(\u001b[49m\u001b[43mredirKW\u001b[49m\u001b[43m,\u001b[49m\u001b[43m \u001b[49m\u001b[43mspecialKW\u001b[49m\u001b[43m)\u001b[49m\n\u001b[1;32m    376\u001b[0m \u001b[38;5;28mself\u001b[39m\u001b[38;5;241m.\u001b[39m_updateParList(save)\n\u001b[1;32m    377\u001b[0m \u001b[38;5;28;01mif\u001b[39;00m Verbose \u001b[38;5;241m>\u001b[39m \u001b[38;5;241m1\u001b[39m:\n",
      "File \u001b[0;32m/usr/lib/python3/dist-packages/pyraf/iraftask.py:882\u001b[0m, in \u001b[0;36mIrafTask._run\u001b[0;34m(self, redirKW, specialKW)\u001b[0m\n\u001b[1;32m    880\u001b[0m     irafexecute\u001b[38;5;241m.\u001b[39mIrafExecute(\u001b[38;5;28mself\u001b[39m, iraf\u001b[38;5;241m.\u001b[39mgetVarDict(), \u001b[38;5;241m*\u001b[39m\u001b[38;5;241m*\u001b[39mredirKW)\n\u001b[1;32m    881\u001b[0m \u001b[38;5;28;01mexcept\u001b[39;00m irafexecute\u001b[38;5;241m.\u001b[39mIrafProcessError \u001b[38;5;28;01mas\u001b[39;00m value:\n\u001b[0;32m--> 882\u001b[0m     \u001b[38;5;28;01mraise\u001b[39;00m IrafError(\u001b[38;5;124m\"\u001b[39m\u001b[38;5;124mError running IRAF task \u001b[39m\u001b[38;5;124m\"\u001b[39m \u001b[38;5;241m+\u001b[39m \u001b[38;5;28mself\u001b[39m\u001b[38;5;241m.\u001b[39m_name \u001b[38;5;241m+\u001b[39m \u001b[38;5;124m\"\u001b[39m\u001b[38;5;130;01m\\n\u001b[39;00m\u001b[38;5;124m\"\u001b[39m \u001b[38;5;241m+\u001b[39m\n\u001b[1;32m    883\u001b[0m                     \u001b[38;5;28mstr\u001b[39m(value))\n",
      "\u001b[0;31mIrafError\u001b[0m: Error running IRAF task display\nIRAF task terminated abnormally\nERROR (1121, \"FXF: EOF encountered while reading FITS file (/home/max/workspace/DIET-COKE/IRAF/pg_dr_phot/NIR/._dark10_5.fits)\u0007\")\n"
     ]
    }
   ],
   "source": [
    "\n",
    "# Ejemplo de uso de una tarea de PyRAF\n",
    "fits_file = \"/home/max/workspace/DIET-COKE/IRAF/pg_dr_phot/NIR/._dark10_5.fits\"\n",
    "iraf.display(fits_file, 1)"
   ]
  },
  {
   "cell_type": "markdown",
   "metadata": {},
   "source": []
  },
  {
   "cell_type": "code",
   "execution_count": null,
   "metadata": {},
   "outputs": [],
   "source": []
  }
 ],
 "metadata": {
  "kernelspec": {
   "display_name": "Python 3",
   "language": "python",
   "name": "python3"
  },
  "language_info": {
   "codemirror_mode": {
    "name": "ipython",
    "version": 3
   },
   "file_extension": ".py",
   "mimetype": "text/x-python",
   "name": "python",
   "nbconvert_exporter": "python",
   "pygments_lexer": "ipython3",
   "version": "3.10.12"
  }
 },
 "nbformat": 4,
 "nbformat_minor": 2
}
