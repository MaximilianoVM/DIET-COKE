{
 "cells": [
  {
   "cell_type": "code",
   "execution_count": 12,
   "metadata": {},
   "outputs": [
    {
     "name": "stdout",
     "output_type": "stream",
     "text": [
      "[1, 1, 1, 1, 1, 1]\n"
     ]
    }
   ],
   "source": [
    "def dividir_string(s):\n",
    "    numeros = s.split()\n",
    "    return [int(num) for num in numeros]\n",
    "\n",
    "s = '1 1 1 1 1 1'\n",
    "print(dividir_string(s))"
   ]
  },
  {
   "cell_type": "code",
   "execution_count": 13,
   "metadata": {},
   "outputs": [
    {
     "data": {
      "text/plain": [
       "int"
      ]
     },
     "execution_count": 13,
     "metadata": {},
     "output_type": "execute_result"
    }
   ],
   "source": [
    "type(dividir_string(s)[1])"
   ]
  },
  {
   "cell_type": "code",
   "execution_count": 14,
   "metadata": {},
   "outputs": [
    {
     "data": {
      "text/plain": [
       "['1', '1', '1', '1', '1', '1']"
      ]
     },
     "execution_count": 14,
     "metadata": {},
     "output_type": "execute_result"
    }
   ],
   "source": [
    "s = '1 1 1 1 1 1'\n",
    "s.split()"
   ]
  },
  {
   "cell_type": "code",
   "execution_count": 15,
   "metadata": {},
   "outputs": [
    {
     "data": {
      "text/plain": [
       "[1, 1, 1, 1, 1, 1]"
      ]
     },
     "execution_count": 15,
     "metadata": {},
     "output_type": "execute_result"
    }
   ],
   "source": [
    "int_s = [int(num) for num in s.split()]\n",
    "int_s"
   ]
  },
  {
   "cell_type": "markdown",
   "metadata": {},
   "source": [
    "# Description\n",
    "Middle Earth is about to go to war. The forces of good will have many battles with the forces of evil. Different races will certainly be involved. Each race has a certain worth when battling against others. On the side of good we have the following races, with their associated worth:\n",
    "\n",
    "\n",
    "* Hobbits: 1\n",
    "* Men: 2\n",
    "* Elves: 3\n",
    "* Dwarves: 3\n",
    "* Eagles: 4\n",
    "* Wizards: 10\n",
    "\n",
    "\n",
    "On the side of evil we have:\n",
    "\n",
    "\n",
    "* Orcs: 1\n",
    "* Men: 2\n",
    "* Wargs: 2\n",
    "* Goblins: 2\n",
    "* Uruk Hai: 3\n",
    "* Trolls: 5\n",
    "* Wizards: 10\n"
   ]
  },
  {
   "cell_type": "markdown",
   "metadata": {},
   "source": [
    "    test.assert_equals(good_vs_evil('1 1 1 1 1 1', '1 1 1 1 1 1 1'),  'Battle Result: Evil eradicates all trace of Good')\n",
    "\n",
    "\n",
    "    test.assert_equals(good_vs_evil('0 0 0 0 0 10', '0 1 1 1 1 0 0'), 'Battle Result: Good triumphs over Evil')\n",
    "\n",
    "\n",
    "    test.assert_equals(good_vs_evil('1 0 0 0 0 0', '1 0 0 0 0 0 0'),  'Battle Result: No victor on this battle field')"
   ]
  },
  {
   "cell_type": "code",
   "execution_count": 23,
   "metadata": {},
   "outputs": [],
   "source": [
    "def good_vs_evil(good, evil):\n",
    "    good_split = [int(num) for num in good.split()]\n",
    "    evil_split = [int(num) for num in evil.split()]\n",
    "\n",
    "    good_score = 0; evil_score = 0\n",
    "\n",
    "    for i, num in enumerate(good_split):\n",
    "        if   i==0: good_score += 1*num #Hobbits\n",
    "        elif i==1: good_score += 2*num #Men\n",
    "        elif i==2: good_score += 3*num #Elves\n",
    "        elif i==3: good_score += 3*num #Dwarves\n",
    "        elif i==4: good_score += 4*num #Eagles\n",
    "        else     : good_score += 10*num #Eagles\n",
    "    print(\"good score: \", good_score)\n",
    "\n",
    "    for i, num in enumerate(evil_split):\n",
    "        if   i==0: evil_score += 1*num #Orcs\n",
    "        elif i==1: evil_score += 2*num #Men\n",
    "        elif i==2: evil_score += 2*num #Wargs\n",
    "        elif i==3: evil_score += 2*num #Goblins\n",
    "        elif i==4: evil_score += 3*num #Uruk Hai\n",
    "        elif i==5: evil_score += 5*num #Trolls\n",
    "        else     : evil_score += 10*num #Wizards\n",
    "    print(\"evil score: \", evil_score)\n",
    "\n",
    "    if good_score > evil_score:\n",
    "        return \"Battle Result: Good triumphs over Evil\"\n",
    "    if good_score < evil_score:\n",
    "        return \"Battle Result: Evil eradicates all trace of Good\"\n",
    "    else: \n",
    "        return \"Battle Result: No victor on this battle field\""
   ]
  },
  {
   "cell_type": "code",
   "execution_count": 20,
   "metadata": {},
   "outputs": [
    {
     "name": "stdout",
     "output_type": "stream",
     "text": [
      "good score:  23\n",
      "evil score:  25\n"
     ]
    },
    {
     "data": {
      "text/plain": [
       "'Battle Result: Evil eradicates all trace of Good'"
      ]
     },
     "execution_count": 20,
     "metadata": {},
     "output_type": "execute_result"
    }
   ],
   "source": [
    "good_vs_evil('1 1 1 1 1 1', '1 1 1 1 1 1 1') #'Battle Result: Evil eradicates all trace of Good'"
   ]
  },
  {
   "cell_type": "code",
   "execution_count": 21,
   "metadata": {},
   "outputs": [
    {
     "name": "stdout",
     "output_type": "stream",
     "text": [
      "good score:  100\n",
      "evil score:  9\n"
     ]
    },
    {
     "data": {
      "text/plain": [
       "'Battle Result: Good triumphs over Evil'"
      ]
     },
     "execution_count": 21,
     "metadata": {},
     "output_type": "execute_result"
    }
   ],
   "source": [
    "good_vs_evil('0 0 0 0 0 10', '0 1 1 1 1 0 0') #'Battle Result: Good triumphs over Evil'"
   ]
  },
  {
   "cell_type": "code",
   "execution_count": 22,
   "metadata": {},
   "outputs": [
    {
     "name": "stdout",
     "output_type": "stream",
     "text": [
      "good score:  1\n",
      "evil score:  1\n"
     ]
    },
    {
     "data": {
      "text/plain": [
       "'Battle Result: No victor on this battle field'"
      ]
     },
     "execution_count": 22,
     "metadata": {},
     "output_type": "execute_result"
    }
   ],
   "source": [
    "good_vs_evil('1 0 0 0 0 0', '1 0 0 0 0 0 0') #'Battle Result: No victor on this battle field'"
   ]
  },
  {
   "cell_type": "markdown",
   "metadata": {},
   "source": [
    "## Otra respuesta: "
   ]
  },
  {
   "cell_type": "code",
   "execution_count": 24,
   "metadata": {},
   "outputs": [],
   "source": [
    "def goodVsEvil(good, evil):\n",
    "\n",
    "    points_good = [1, 2, 3, 3, 4, 10]\n",
    "    points_evil = [1, 2, 2, 2, 3, 5, 10]\n",
    "    \n",
    "    good = sum([int(x)*y for x, y in zip(good.split(), points_good)])\n",
    "    evil = sum([int(x)*y for x, y in zip(evil.split(), points_evil)])\n",
    "\n",
    "    result = 'Battle Result: '\n",
    "    \n",
    "    if good < evil:\n",
    "        return result +'Evil eradicates all trace of Good'\n",
    "    elif good > evil:\n",
    "        return result + 'Good triumphs over Evil'\n",
    "    else:\n",
    "        return result + 'No victor on this battle field'"
   ]
  },
  {
   "cell_type": "code",
   "execution_count": null,
   "metadata": {},
   "outputs": [],
   "source": []
  }
 ],
 "metadata": {
  "kernelspec": {
   "display_name": "Python 3",
   "language": "python",
   "name": "python3"
  },
  "language_info": {
   "codemirror_mode": {
    "name": "ipython",
    "version": 3
   },
   "file_extension": ".py",
   "mimetype": "text/x-python",
   "name": "python",
   "nbconvert_exporter": "python",
   "pygments_lexer": "ipython3",
   "version": "3.10.12"
  }
 },
 "nbformat": 4,
 "nbformat_minor": 2
}
