{
 "cells": [
  {
   "cell_type": "markdown",
   "metadata": {},
   "source": [
    "Write a function that takes a string of braces, and determines if the order of the braces is valid. It should return true if the string is valid, and false if it's invalid.\n",
    "\n",
    "\n",
    "This Kata is similar to the Valid Parentheses Kata, but introduces new characters: brackets [], and curly braces {}. Thanks to @arnedag for the idea!\n",
    "\n",
    "\n",
    "All input strings will be nonempty, and will only consist of parentheses, brackets and curly braces: ()[]{}.\n",
    "\n",
    "\n",
    "What is considered Valid?\n",
    "A string of braces is considered valid if all braces are matched with the correct brace.\n",
    "\n",
    "\n",
    "Examples: \n",
    "\n",
    "\n",
    "\n",
    "    \"(){}[]\"   =>  True\n",
    "    \"([{}])\"   =>  True\n",
    "    \"(}\"       =>  False\n",
    "    \"[(])\"     =>  False\n",
    "    \"[({})](]\" =>  False"
   ]
  },
  {
   "cell_type": "code",
   "execution_count": 19,
   "metadata": {},
   "outputs": [],
   "source": [
    "def valid_braces(string):\n",
    "    dic = {}\n",
    "    flag = False\n",
    "    for i, e in enumerate(string): dic[e] = i\n",
    "\n",
    "    if '(' in string:\n",
    "        if ')' in string and dic['('] < dic[')']: flag = True\n",
    "\n",
    "    if '[' in string:\n",
    "        if ']' in string and dic['['] < dic[']']: flag = True\n",
    "\n",
    "    if '{' in string:\n",
    "        if '}' in string and dic['{'] < dic['}']: flag = True\n",
    "    \n",
    "    return flag"
   ]
  },
  {
   "cell_type": "code",
   "execution_count": 20,
   "metadata": {},
   "outputs": [
    {
     "data": {
      "text/plain": [
       "True"
      ]
     },
     "execution_count": 20,
     "metadata": {},
     "output_type": "execute_result"
    }
   ],
   "source": [
    "valid_braces(\"(){}[]\")"
   ]
  },
  {
   "cell_type": "code",
   "execution_count": 21,
   "metadata": {},
   "outputs": [
    {
     "data": {
      "text/plain": [
       "False"
      ]
     },
     "execution_count": 21,
     "metadata": {},
     "output_type": "execute_result"
    }
   ],
   "source": [
    "valid_braces(\"(}\")\n"
   ]
  },
  {
   "cell_type": "markdown",
   "metadata": {},
   "source": [
    "### recordando ejercicio de EDyA"
   ]
  },
  {
   "cell_type": "code",
   "execution_count": 22,
   "metadata": {},
   "outputs": [],
   "source": [
    "def check_brackets(string):\n",
    "    stack = [] #usamos lista como stack\n",
    "    for ch in string:\n",
    "        if ch in ('{', '[', '('):\n",
    "            stack.append(ch) #~push\n",
    "        elif ch in ('}', ']', ')'):\n",
    "            if not stack:\n",
    "                return False\n",
    "            last = stack.pop() #~pop\n",
    "            if last == '{' and ch != '}':\n",
    "                return False\n",
    "            elif last == '[' and ch != ']':\n",
    "                return False\n",
    "            elif last == '(' and ch != ')':\n",
    "                return False\n",
    "    return len(stack) == 0"
   ]
  },
  {
   "cell_type": "code",
   "execution_count": 23,
   "metadata": {},
   "outputs": [],
   "source": [
    "test1 = \"[(])\" \n",
    "test2 = \"([}{])\"\n",
    "test3 = \"())({}}{()][][\"\n",
    "\n",
    "\n",
    "test4 =  \"([{}])\" "
   ]
  },
  {
   "cell_type": "code",
   "execution_count": 24,
   "metadata": {},
   "outputs": [
    {
     "data": {
      "text/plain": [
       "False"
      ]
     },
     "execution_count": 24,
     "metadata": {},
     "output_type": "execute_result"
    }
   ],
   "source": [
    "check_brackets(test1)"
   ]
  },
  {
   "cell_type": "code",
   "execution_count": 25,
   "metadata": {},
   "outputs": [
    {
     "data": {
      "text/plain": [
       "False"
      ]
     },
     "execution_count": 25,
     "metadata": {},
     "output_type": "execute_result"
    }
   ],
   "source": [
    "check_brackets(test2)"
   ]
  },
  {
   "cell_type": "code",
   "execution_count": 26,
   "metadata": {},
   "outputs": [
    {
     "data": {
      "text/plain": [
       "False"
      ]
     },
     "execution_count": 26,
     "metadata": {},
     "output_type": "execute_result"
    }
   ],
   "source": [
    "check_brackets(test3)"
   ]
  },
  {
   "cell_type": "code",
   "execution_count": 27,
   "metadata": {},
   "outputs": [
    {
     "data": {
      "text/plain": [
       "True"
      ]
     },
     "execution_count": 27,
     "metadata": {},
     "output_type": "execute_result"
    }
   ],
   "source": [
    "check_brackets(test4)"
   ]
  },
  {
   "cell_type": "code",
   "execution_count": 28,
   "metadata": {},
   "outputs": [],
   "source": [
    "def valid_braces(string):\n",
    "    stack = [] #usamos lista como stack\n",
    "    for ch in string:\n",
    "        if ch in ('{', '[', '('):\n",
    "            stack.append(ch) #~push\n",
    "        elif ch in ('}', ']', ')'):\n",
    "            if not stack:\n",
    "                return False\n",
    "            last = stack.pop() #~pop\n",
    "            if last == '{' and ch != '}':\n",
    "                return False\n",
    "            elif last == '[' and ch != ']':\n",
    "                return False\n",
    "            elif last == '(' and ch != ')':\n",
    "                return False\n",
    "    return len(stack) == 0"
   ]
  },
  {
   "cell_type": "code",
   "execution_count": null,
   "metadata": {},
   "outputs": [],
   "source": []
  }
 ],
 "metadata": {
  "kernelspec": {
   "display_name": "Python 3",
   "language": "python",
   "name": "python3"
  },
  "language_info": {
   "codemirror_mode": {
    "name": "ipython",
    "version": 3
   },
   "file_extension": ".py",
   "mimetype": "text/x-python",
   "name": "python",
   "nbconvert_exporter": "python",
   "pygments_lexer": "ipython3",
   "version": "3.10.12"
  }
 },
 "nbformat": 4,
 "nbformat_minor": 2
}
