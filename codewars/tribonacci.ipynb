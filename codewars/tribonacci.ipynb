{
 "cells": [
  {
   "cell_type": "markdown",
   "metadata": {},
   "source": [
    "## #2"
   ]
  },
  {
   "cell_type": "code",
   "execution_count": 17,
   "metadata": {},
   "outputs": [],
   "source": [
    "w1 = \"din\"     # =>  \"(((\"\n",
    "w2 = \"recede\"  # =>  \"()()()\"\n",
    "w3 = \"Success\" # =>  \")())())\"\n",
    "w4 = \"(( @\"    # =>  \"))((\" "
   ]
  },
  {
   "cell_type": "code",
   "execution_count": 23,
   "metadata": {},
   "outputs": [],
   "source": [
    "from collections import defaultdict\n",
    "\n",
    "def duplicate_encode(word):\n",
    "    characters = defaultdict(int)\n",
    "    for c in word:\n",
    "        characters[c.lower()] += 1\n",
    "    res = \"\"\n",
    "    for c in word: \n",
    "        if characters[c.lower()] > 1: \n",
    "            res += \")\"\n",
    "        else: res += \"(\"\n",
    "    return res"
   ]
  },
  {
   "cell_type": "code",
   "execution_count": 24,
   "metadata": {},
   "outputs": [
    {
     "data": {
      "text/plain": [
       "')())())'"
      ]
     },
     "execution_count": 24,
     "metadata": {},
     "output_type": "execute_result"
    }
   ],
   "source": [
    "duplicate_encode(w3)"
   ]
  },
  {
   "cell_type": "markdown",
   "metadata": {},
   "source": [
    "## #3"
   ]
  },
  {
   "cell_type": "markdown",
   "metadata": {},
   "source": [
    "signature = [1, 1, 1], n = 10: <br>\n",
    "\n",
    "[1, 1, 1, 3, 5, 9, 17, 31, 57, 105, 193, 355, 653] <br>\n",
    "[1, 1, 1, 3, 5, 9, 17, 31, 57, 105]"
   ]
  },
  {
   "cell_type": "code",
   "execution_count": 52,
   "metadata": {},
   "outputs": [
    {
     "data": {
      "text/plain": [
       "[1, 1, 1, 3, 5, 9, 17, 31, 57, 105]"
      ]
     },
     "execution_count": 52,
     "metadata": {},
     "output_type": "execute_result"
    }
   ],
   "source": [
    "signature = [1, 1, 1]\n",
    "n = 10\n",
    "\n",
    "def tribonacci(signature, n):\n",
    "    if n>3: \n",
    "        for i in range(n-3):\n",
    "            last = sum(signature[-3:])\n",
    "            signature.append(last)\n",
    "        return signature\n",
    "    else: \n",
    "        return signature[:n]\n",
    "\n",
    "tribonacci(signature, n)"
   ]
  },
  {
   "cell_type": "code",
   "execution_count": null,
   "metadata": {},
   "outputs": [],
   "source": []
  }
 ],
 "metadata": {
  "kernelspec": {
   "display_name": "Python 3",
   "language": "python",
   "name": "python3"
  },
  "language_info": {
   "codemirror_mode": {
    "name": "ipython",
    "version": 3
   },
   "file_extension": ".py",
   "mimetype": "text/x-python",
   "name": "python",
   "nbconvert_exporter": "python",
   "pygments_lexer": "ipython3",
   "version": "3.10.12"
  }
 },
 "nbformat": 4,
 "nbformat_minor": 2
}
