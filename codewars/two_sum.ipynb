{
 "cells": [
  {
   "cell_type": "code",
   "execution_count": null,
   "metadata": {},
   "outputs": [],
   "source": []
  },
  {
   "cell_type": "code",
   "execution_count": 25,
   "metadata": {},
   "outputs": [],
   "source": [
    "def two_sum(numbers, target):\n",
    "    dic = {}\n",
    "    i = 0\n",
    "    for num in numbers: \n",
    "        print(\"===== i:\", i)\n",
    "        print(\"dic:\", dic)\n",
    "        print(\"num:\", num)\n",
    "        des = target - num\n",
    "        print(\"des:\", des) \n",
    "        if des in dic.keys(): \n",
    "            return [i, dic[des]]\n",
    "        else: \n",
    "            dic[num] = i\n",
    "        i += 1"
   ]
  },
  {
   "cell_type": "code",
   "execution_count": 26,
   "metadata": {},
   "outputs": [
    {
     "name": "stdout",
     "output_type": "stream",
     "text": [
      "===== i: 0\n",
      "dic: {}\n",
      "num: 1\n",
      "des: 3\n",
      "===== i: 1\n",
      "dic: {1: 0}\n",
      "num: 2\n",
      "des: 2\n",
      "===== i: 2\n",
      "dic: {1: 0, 2: 1}\n",
      "num: 3\n",
      "des: 1\n"
     ]
    },
    {
     "data": {
      "text/plain": [
       "[2, 0]"
      ]
     },
     "execution_count": 26,
     "metadata": {},
     "output_type": "execute_result"
    }
   ],
   "source": [
    "two_sum([1, 2, 3], 4) # returns (0, 2) or (2, 0)"
   ]
  },
  {
   "cell_type": "code",
   "execution_count": 27,
   "metadata": {},
   "outputs": [
    {
     "name": "stdout",
     "output_type": "stream",
     "text": [
      "===== i: 0\n",
      "dic: {}\n",
      "num: 3\n",
      "des: 3\n",
      "===== i: 1\n",
      "dic: {3: 0}\n",
      "num: 2\n",
      "des: 4\n",
      "===== i: 2\n",
      "dic: {3: 0, 2: 1}\n",
      "num: 4\n",
      "des: 2\n"
     ]
    },
    {
     "data": {
      "text/plain": [
       "[2, 1]"
      ]
     },
     "execution_count": 27,
     "metadata": {},
     "output_type": "execute_result"
    }
   ],
   "source": [
    "two_sum([3, 2, 4], 6) # returns (1, 2) or (2, 1)"
   ]
  },
  {
   "cell_type": "code",
   "execution_count": 28,
   "metadata": {},
   "outputs": [],
   "source": [
    "dic = {1:2, 12:7, 3:4}"
   ]
  },
  {
   "cell_type": "code",
   "execution_count": 12,
   "metadata": {},
   "outputs": [
    {
     "data": {
      "text/plain": [
       "dict_keys([1, 12, 3])"
      ]
     },
     "execution_count": 12,
     "metadata": {},
     "output_type": "execute_result"
    }
   ],
   "source": [
    "dic.keys()"
   ]
  },
  {
   "cell_type": "code",
   "execution_count": 7,
   "metadata": {},
   "outputs": [
    {
     "data": {
      "text/plain": [
       "True"
      ]
     },
     "execution_count": 7,
     "metadata": {},
     "output_type": "execute_result"
    }
   ],
   "source": [
    "1 in dic.keys()"
   ]
  },
  {
   "cell_type": "code",
   "execution_count": null,
   "metadata": {},
   "outputs": [],
   "source": []
  }
 ],
 "metadata": {
  "kernelspec": {
   "display_name": "Python 3",
   "language": "python",
   "name": "python3"
  },
  "language_info": {
   "codemirror_mode": {
    "name": "ipython",
    "version": 3
   },
   "file_extension": ".py",
   "mimetype": "text/x-python",
   "name": "python",
   "nbconvert_exporter": "python",
   "pygments_lexer": "ipython3",
   "version": "3.10.12"
  }
 },
 "nbformat": 4,
 "nbformat_minor": 2
}
