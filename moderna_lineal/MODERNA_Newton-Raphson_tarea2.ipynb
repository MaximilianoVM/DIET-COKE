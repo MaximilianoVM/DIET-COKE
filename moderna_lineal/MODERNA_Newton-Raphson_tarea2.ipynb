{
 "cells": [
  {
   "cell_type": "code",
   "execution_count": 1,
   "metadata": {},
   "outputs": [
    {
     "name": "stdout",
     "output_type": "stream",
     "text": [
      "['xi', 'xnuevo', 'tramo']\n",
      "[[2.0000e+00 9.1858e+00 7.1858e+00]\n",
      " [9.1858e+00 4.9973e+00 4.1884e+00]\n",
      " [4.9973e+00 4.9651e+00 3.2209e-02]\n",
      " [4.9651e+00 4.9651e+00 1.8351e-05]]\n",
      "raiz en:  4.965114231750363\n",
      "con error de:  1.8351145969042193e-05\n"
     ]
    }
   ],
   "source": [
    "# Método de Newton-Raphson\n",
    "# Ejemplo 1 (Burden ejemplo 1 p.51/pdf.61)\n",
    "\n",
    "import numpy as np\n",
    "\n",
    "# INGRESO\n",
    "fx  = lambda x: np.exp(-x) + x/5 - 1\n",
    "dfx = lambda x: -np.exp(-x) + 1/5\n",
    "\n",
    "x0 = 2\n",
    "tolera = 0.001\n",
    "\n",
    "# PROCEDIMIENTO\n",
    "tabla = []\n",
    "tramo = abs(2*tolera)\n",
    "xi = x0\n",
    "while (tramo>=tolera):\n",
    "    xnuevo = xi - fx(xi)/dfx(xi)\n",
    "    tramo  = abs(xnuevo-xi)\n",
    "    tabla.append([xi,xnuevo,tramo])\n",
    "    xi = xnuevo\n",
    "\n",
    "# convierte la lista a un arreglo.\n",
    "tabla = np.array(tabla)\n",
    "n = len(tabla)\n",
    "\n",
    "# SALIDA\n",
    "print(['xi', 'xnuevo', 'tramo'])\n",
    "np.set_printoptions(precision = 4)\n",
    "print(tabla)\n",
    "print('raiz en: ', xi)\n",
    "print('con error de: ',tramo)"
   ]
  },
  {
   "cell_type": "code",
   "execution_count": null,
   "metadata": {},
   "outputs": [],
   "source": []
  }
 ],
 "metadata": {
  "kernelspec": {
   "display_name": "Python 3",
   "language": "python",
   "name": "python3"
  },
  "language_info": {
   "codemirror_mode": {
    "name": "ipython",
    "version": 3
   },
   "file_extension": ".py",
   "mimetype": "text/x-python",
   "name": "python",
   "nbconvert_exporter": "python",
   "pygments_lexer": "ipython3",
   "version": "3.10.12"
  }
 },
 "nbformat": 4,
 "nbformat_minor": 2
}
