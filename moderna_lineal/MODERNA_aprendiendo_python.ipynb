{
 "cells": [
  {
   "cell_type": "markdown",
   "metadata": {},
   "source": [
    "# Física Moderna\n",
    "\n",
    "## Práctica 1. Python para físicos"
   ]
  },
  {
   "cell_type": "markdown",
   "metadata": {},
   "source": [
    "En esta práctica haremos uso de las principales herramientas del lenguaje Python."
   ]
  },
  {
   "cell_type": "markdown",
   "metadata": {},
   "source": [
    "Procedimiento. Abra este archivo [Practi-01.ipynb] con Jupyter. Una vez que esté leyendo esto en Jupyter, realice los ejercicios  propuestos. "
   ]
  },
  {
   "cell_type": "markdown",
   "metadata": {},
   "source": [
    "## 1. Introducción"
   ]
  },
  {
   "cell_type": "markdown",
   "metadata": {},
   "source": [
    "Instrucciones básicas: Cada cuadro que aparece para editar, como éste:"
   ]
  },
  {
   "cell_type": "code",
   "execution_count": 10,
   "metadata": {},
   "outputs": [
    {
     "name": "stdout",
     "output_type": "stream",
     "text": [
      "hola mundo\n"
     ]
    }
   ],
   "source": [
    "print(\"hola mundo\")"
   ]
  },
  {
   "cell_type": "markdown",
   "metadata": {},
   "source": [
    "Es un cuadro que permite la introducción de código Python y para ejecutar solo tenemos que presionar 'shift + enter' (en las prácticas se va obviar pedir que se presionen estas teclas). La primera función de python que vamos a usar es"
   ]
  },
  {
   "cell_type": "raw",
   "metadata": {},
   "source": [
    "print(a)"
   ]
  },
  {
   "cell_type": "markdown",
   "metadata": {},
   "source": [
    "esta función imprime en pantalla en valor de la variable a. Usemosla: primero defina una variable llamada 'yo' cuyo contenido sea su nombre (recuerde que las cadenas en python se definen entre comillas Ej. \"cadena\")."
   ]
  },
  {
   "cell_type": "code",
   "execution_count": 11,
   "metadata": {},
   "outputs": [],
   "source": [
    "yo = 'Maximiliano Vaca Montejano'"
   ]
  },
  {
   "cell_type": "markdown",
   "metadata": {},
   "source": [
    "Imprima el valor de la variable yo usando la función print. Puede averiguar cómo se usa esta función tecleando: print?"
   ]
  },
  {
   "cell_type": "code",
   "execution_count": 12,
   "metadata": {},
   "outputs": [
    {
     "name": "stdout",
     "output_type": "stream",
     "text": [
      "Maximiliano Vaca Montejano\n"
     ]
    }
   ],
   "source": [
    "print(yo)"
   ]
  },
  {
   "cell_type": "markdown",
   "metadata": {},
   "source": [
    "En python las variables son dinámicas, es decir no tienen un tipo definido. De esta manera podemos cambiarle el valor a la variable yo y ponerle por ejemplo un valor numérico. Asigne su edad en años a la variable yo."
   ]
  },
  {
   "cell_type": "code",
   "execution_count": 13,
   "metadata": {},
   "outputs": [],
   "source": [
    "yo = 20"
   ]
  },
  {
   "cell_type": "markdown",
   "metadata": {},
   "source": [
    "Existe tres tipos principales de variables que usamos en cálculos físicos, a saber enteros, flotantes y complejos. Defina una variable llamada entero con valor igual al año en que ingresó a la universidad; una variable llamada flotante con valor cercano a pi (con los decimales que se acuerde) y una variable llamada complejo cuya parte real sea el valor de la variable entero y la parte imaginaria el valor de flotante (para de denotar la parte imaginaria se pone j después del número) ."
   ]
  },
  {
   "cell_type": "code",
   "execution_count": 14,
   "metadata": {},
   "outputs": [],
   "source": [
    "entero = 2020"
   ]
  },
  {
   "cell_type": "code",
   "execution_count": 15,
   "metadata": {},
   "outputs": [],
   "source": [
    "flotante = 3.1416"
   ]
  },
  {
   "cell_type": "code",
   "execution_count": 16,
   "metadata": {},
   "outputs": [],
   "source": [
    "complejo = 2020 + 3.1426j"
   ]
  },
  {
   "cell_type": "markdown",
   "metadata": {},
   "source": [
    "Existen convertidores entre estos tipos de variable, estas funciones son: int, float y complex. Averigue con funcionan, preguntando aquí en jupyter, para esto use el simbolo ? después de la funcion."
   ]
  },
  {
   "cell_type": "raw",
   "metadata": {},
   "source": [
    "funcion?"
   ]
  },
  {
   "attachments": {},
   "cell_type": "markdown",
   "metadata": {},
   "source": [
    "**int** : *\"Convert a number or string to an integer, or return 0 if no arguments are given. If x is a number, return x.__int__(). For floating point numbers, this truncates towards zero.\"*"
   ]
  },
  {
   "attachments": {},
   "cell_type": "markdown",
   "metadata": {},
   "source": [
    "**float** : *\"Convert a number or string to an integer, or return 0 if no arguments are given. If x is a number, return x.__int__(). For floating point numbers, this truncates towards zero.\"*"
   ]
  },
  {
   "attachments": {},
   "cell_type": "markdown",
   "metadata": {},
   "source": [
    "**complex** : *\"Create a complex number from a real part and an optional imaginary part. This is equivalent to (real + imag\\*1j) where imag defaults to 0.\"*"
   ]
  },
  {
   "cell_type": "markdown",
   "metadata": {},
   "source": [
    "Operaciones Aritméticas:"
   ]
  },
  {
   "cell_type": "raw",
   "metadata": {},
   "source": [
    "  suma             x+y\n",
    "  resta            x-y\n",
    "  multiplicación   x*y\n",
    "  division         x/y\n",
    "  elevar x a la y  x**y"
   ]
  },
  {
   "cell_type": "markdown",
   "metadata": {},
   "source": [
    "Existen otras operaciones útiles:"
   ]
  },
  {
   "cell_type": "raw",
   "metadata": {},
   "source": [
    "  la parte entera de la division de y entre y    x//y\n",
    "  x modulo y (el resto de dividir x entre y)     x%y"
   ]
  },
  {
   "cell_type": "markdown",
   "metadata": {},
   "source": [
    "apliquemos las siguiente operaciones, considere un paralelepipedo de largo 5.3 ancho 4 y alto 10. Encuentre el area de la cara más pequeña."
   ]
  },
  {
   "cell_type": "code",
   "execution_count": 17,
   "metadata": {},
   "outputs": [
    {
     "name": "stdout",
     "output_type": "stream",
     "text": [
      "el area mas pequeña del paralelepipedo tiene un valor de 21.2 unidades\n",
      "le sigue 40 y luego 53.0\n"
     ]
    }
   ],
   "source": [
    "area1 = 5.3 * 4\n",
    "area2 = 4 * 10 \n",
    "area3 = 5.3 * 10 \n",
    "areas = [area1, area2, area3]\n",
    "areas.sort()\n",
    "print('el area mas pequeña del paralelepipedo tiene un valor de', areas[0], 'unidades')\n",
    "print('le sigue', areas[1], 'y luego', areas[2])\n"
   ]
  },
  {
   "cell_type": "raw",
   "metadata": {},
   "source": [
    "calcule el volumen del paralelepipedo y encuentre la diferencia entre este volumen y el de un cubo con lados igual a la dimensión más pequeña del paralelepipedo. "
   ]
  },
  {
   "cell_type": "code",
   "execution_count": 18,
   "metadata": {},
   "outputs": [
    {
     "name": "stdout",
     "output_type": "stream",
     "text": [
      "el volumen del paralelepipedo es de 44944.0 unidades\n",
      "el volumen del cubo es de 449.44 unidades\n",
      "la diferencia entre los dos volumenes es de 44494.56 unidades\n"
     ]
    }
   ],
   "source": [
    "volumenP = areas[0] * areas[1] * areas[2]\n",
    "print('el volumen del paralelepipedo es de', volumenP, 'unidades')\n",
    "volumenC = areas[0] **2\n",
    "print('el volumen del cubo es de', volumenC, 'unidades')\n",
    "diferencia = volumenP - volumenC\n",
    "print('la diferencia entre los dos volumenes es de', diferencia, 'unidades')"
   ]
  },
  {
   "cell_type": "markdown",
   "metadata": {},
   "source": [
    "Si se asigna el resultado de una operación a una variable esta tendrá el tipo más general de las variables involucradas en la operación. Ejemplifique lo anterior."
   ]
  },
  {
   "cell_type": "code",
   "execution_count": 19,
   "metadata": {},
   "outputs": [
    {
     "name": "stdout",
     "output_type": "stream",
     "text": [
      "<class 'float'>\n",
      "<class 'complex'>\n",
      "en el primer caso, el tipo float es mas general que el int. En el segundo caso, el tipo complex es aun mas general que el float\n"
     ]
    }
   ],
   "source": [
    "general1 = 123 + 12.3\n",
    "print(type(general1))\n",
    "\n",
    "general2 = 123 + 12.3 + (12 + 34j)\n",
    "print(type(general2))\n",
    "\n",
    "print('en el primer caso, el tipo float es mas general que el int. En el segundo caso, el tipo complex es aun mas general que el float')"
   ]
  },
  {
   "cell_type": "markdown",
   "metadata": {},
   "source": [
    "** Como la longitud es un flotante, la diferecia de volumen \"difvol\" tambien es flotante **"
   ]
  },
  {
   "cell_type": "markdown",
   "metadata": {},
   "source": [
    "¿Que hace la siguiente sentencia?:"
   ]
  },
  {
   "cell_type": "raw",
   "metadata": {},
   "source": [
    "x=x+1"
   ]
  },
  {
   "cell_type": "markdown",
   "metadata": {},
   "source": [
    "** Al valor almacenado de x se le suma 1, y ese sera el nuevo valor de x **"
   ]
  },
  {
   "cell_type": "markdown",
   "metadata": {},
   "source": [
    "Averiguelo probando aquí:"
   ]
  },
  {
   "cell_type": "markdown",
   "metadata": {
    "collapsed": true
   },
   "source": [
    "** Le asignamos un valor al azar, digamos 1 **"
   ]
  },
  {
   "cell_type": "code",
   "execution_count": 20,
   "metadata": {},
   "outputs": [],
   "source": [
    "x = 1"
   ]
  },
  {
   "cell_type": "code",
   "execution_count": 21,
   "metadata": {},
   "outputs": [],
   "source": [
    "x = x+1"
   ]
  },
  {
   "cell_type": "code",
   "execution_count": 22,
   "metadata": {},
   "outputs": [
    {
     "name": "stdout",
     "output_type": "stream",
     "text": [
      "2\n"
     ]
    }
   ],
   "source": [
    "print(x)"
   ]
  },
  {
   "cell_type": "markdown",
   "metadata": {},
   "source": [
    "y escriba su conclusión aquí:"
   ]
  },
  {
   "attachments": {},
   "cell_type": "markdown",
   "metadata": {},
   "source": [
    "el resultado es que x tiene un valor de 2"
   ]
  },
  {
   "cell_type": "markdown",
   "metadata": {},
   "source": [
    " A continuación mostraremos algunos modificadores, después de mostrarlos usted debe encontrar su función experimentado y después  escribir su conclusión en la celda de escritura."
   ]
  },
  {
   "cell_type": "raw",
   "metadata": {},
   "source": [
    "El modificador +=   ejemplo:    x += 2"
   ]
  },
  {
   "cell_type": "code",
   "execution_count": 23,
   "metadata": {},
   "outputs": [
    {
     "name": "stdout",
     "output_type": "stream",
     "text": [
      "2\n"
     ]
    }
   ],
   "source": [
    "print(x)"
   ]
  },
  {
   "cell_type": "code",
   "execution_count": 24,
   "metadata": {},
   "outputs": [],
   "source": [
    "x += 2"
   ]
  },
  {
   "cell_type": "code",
   "execution_count": 25,
   "metadata": {},
   "outputs": [
    {
     "name": "stdout",
     "output_type": "stream",
     "text": [
      "4\n"
     ]
    }
   ],
   "source": [
    "print(x)"
   ]
  },
  {
   "cell_type": "code",
   "execution_count": null,
   "metadata": {},
   "outputs": [],
   "source": []
  },
  {
   "attachments": {},
   "cell_type": "markdown",
   "metadata": {},
   "source": [
    "Sirve para: Al valor almacenado en la variable se le suma el numero que se ponga despues de \"+=\", lo que resulta mas practico que escribir \"x = x+1\" por ejemplo"
   ]
  },
  {
   "cell_type": "raw",
   "metadata": {},
   "source": [
    "El modificador -=   ejemplo:    x -= 5"
   ]
  },
  {
   "cell_type": "code",
   "execution_count": 26,
   "metadata": {},
   "outputs": [
    {
     "name": "stdout",
     "output_type": "stream",
     "text": [
      "4\n"
     ]
    }
   ],
   "source": [
    "print(x)"
   ]
  },
  {
   "cell_type": "code",
   "execution_count": 27,
   "metadata": {},
   "outputs": [],
   "source": [
    "x -= 2"
   ]
  },
  {
   "cell_type": "code",
   "execution_count": 28,
   "metadata": {},
   "outputs": [
    {
     "name": "stdout",
     "output_type": "stream",
     "text": [
      "2\n"
     ]
    }
   ],
   "source": [
    "print(x)"
   ]
  },
  {
   "cell_type": "code",
   "execution_count": null,
   "metadata": {},
   "outputs": [],
   "source": []
  },
  {
   "attachments": {},
   "cell_type": "markdown",
   "metadata": {},
   "source": [
    "Sirve para: Al valor almacenado en la variable se le resta el numero que se ponga despues de \"-=\", lo que resulta mas practico que escribir \"x = x-1\" por ejemplo"
   ]
  },
  {
   "cell_type": "raw",
   "metadata": {},
   "source": [
    "El modificador *=   ejemplo:    x *= 3.1416"
   ]
  },
  {
   "cell_type": "code",
   "execution_count": 29,
   "metadata": {},
   "outputs": [],
   "source": [
    "x *= 8"
   ]
  },
  {
   "cell_type": "code",
   "execution_count": 30,
   "metadata": {},
   "outputs": [
    {
     "name": "stdout",
     "output_type": "stream",
     "text": [
      "16\n"
     ]
    }
   ],
   "source": [
    "print(x)"
   ]
  },
  {
   "attachments": {},
   "cell_type": "markdown",
   "metadata": {},
   "source": [
    "Sirve para: Al valor almacenado en la variable se le multiplica por el numero que se ponga despues de \"*=\", lo que resulta mas practico que escribir \"x = x\\*5\" por ejemplo, en caso de querer multiplicar por 5"
   ]
  },
  {
   "cell_type": "raw",
   "metadata": {},
   "source": [
    "El modificador /=   ejemplo:    x /= 2"
   ]
  },
  {
   "cell_type": "code",
   "execution_count": 31,
   "metadata": {},
   "outputs": [],
   "source": [
    "x /= 4"
   ]
  },
  {
   "cell_type": "code",
   "execution_count": 32,
   "metadata": {},
   "outputs": [
    {
     "name": "stdout",
     "output_type": "stream",
     "text": [
      "4.0\n"
     ]
    }
   ],
   "source": [
    "print(x)"
   ]
  },
  {
   "attachments": {},
   "cell_type": "markdown",
   "metadata": {},
   "source": [
    "Sirve para: Al valor almacenado en la variable se le divide entre el numero que se ponga despues de \"/=\", lo que resulta mas practico que escribir \"x = x\\5\" por ejemplo, si quisieramos dividir x entre 5"
   ]
  },
  {
   "cell_type": "raw",
   "metadata": {},
   "source": [
    "El modificador //=   ejemplo:    x //= 3.4"
   ]
  },
  {
   "cell_type": "code",
   "execution_count": 33,
   "metadata": {},
   "outputs": [],
   "source": [
    "x //= 2.5"
   ]
  },
  {
   "cell_type": "code",
   "execution_count": 34,
   "metadata": {},
   "outputs": [
    {
     "name": "stdout",
     "output_type": "stream",
     "text": [
      "1.0\n"
     ]
    }
   ],
   "source": [
    "print(x)"
   ]
  },
  {
   "cell_type": "markdown",
   "metadata": {},
   "source": [
    "Sirve para tomar la parte entera de la division de x por 3.4"
   ]
  },
  {
   "cell_type": "raw",
   "metadata": {},
   "source": [
    "Averigue que hace la siguiente sentencia   x,y =y,x"
   ]
  },
  {
   "cell_type": "code",
   "execution_count": 35,
   "metadata": {},
   "outputs": [],
   "source": [
    "x = 14\n",
    "y = 25"
   ]
  },
  {
   "cell_type": "code",
   "execution_count": 36,
   "metadata": {},
   "outputs": [
    {
     "name": "stdout",
     "output_type": "stream",
     "text": [
      "14 25\n"
     ]
    }
   ],
   "source": [
    "print(x,y)"
   ]
  },
  {
   "cell_type": "code",
   "execution_count": 37,
   "metadata": {},
   "outputs": [],
   "source": [
    "x,y = y,x"
   ]
  },
  {
   "cell_type": "code",
   "execution_count": 38,
   "metadata": {},
   "outputs": [
    {
     "name": "stdout",
     "output_type": "stream",
     "text": [
      "25 14\n"
     ]
    }
   ],
   "source": [
    "print(x,y)"
   ]
  },
  {
   "cell_type": "code",
   "execution_count": 39,
   "metadata": {},
   "outputs": [
    {
     "name": "stdout",
     "output_type": "stream",
     "text": [
      "25\n",
      "14\n"
     ]
    }
   ],
   "source": [
    "print(x)\n",
    "print(y)"
   ]
  },
  {
   "attachments": {},
   "cell_type": "markdown",
   "metadata": {},
   "source": [
    "R= intercambia el valor de las variables *x* y *y*"
   ]
  },
  {
   "cell_type": "markdown",
   "metadata": {},
   "source": [
    "Para preguntar al usuario un valor se puede usar la función input, se usa así"
   ]
  },
  {
   "cell_type": "raw",
   "metadata": {},
   "source": [
    "edad = input(\"¿qué edad tienes? \") - "
   ]
  },
  {
   "cell_type": "markdown",
   "metadata": {},
   "source": [
    "Averigue cuál es el tipo de la variable edad en el ejemplo anterior."
   ]
  },
  {
   "cell_type": "markdown",
   "metadata": {},
   "source": [
    "#### Pelota lanzada desde una torre."
   ]
  },
  {
   "cell_type": "markdown",
   "metadata": {},
   "source": [
    "Considere una pelota lanzada desde una torre de altura $h$. Tiene velocidad inicial cero y se acelera hacia abajo debido a la gravedad (que tomamos como $g=9.81$ $ms^-1$). Ignorando la fricción del aire, encuentre la altura de la pelota a un tiempo $t$."
   ]
  },
  {
   "cell_type": "markdown",
   "metadata": {},
   "source": [
    "Para solucionar este problema escribiremos un programa que pida al usuario la altura del edificio y el tiempo al que quiere saber la altura de la pelota e imprima al altura de la pelota a ese tiempo"
   ]
  },
  {
   "cell_type": "raw",
   "metadata": {},
   "source": [
    "Nota: print puede imprimir composiciones de cadenas y variables, por ejemplo print(\"mi edad es \",edad)."
   ]
  },
  {
   "cell_type": "code",
   "execution_count": 40,
   "metadata": {},
   "outputs": [],
   "source": [
    "g = 9.81\n",
    "\n",
    "h0 = int(input('ingresa la altura de la torre en metros: '))\n",
    "t = int(input('ingresa el tiempo en segundos al cual que quieres saber la altura: '))\n",
    "\n",
    "h1 = h0 - g * (t*t) / 2\n",
    "\n",
    "if h1 < 0: h1 = 0\n",
    "\n",
    "print('La altura de la pelota al tiempo', t, 'segundos despues de dejarse caer es de', h1, 'metros')"
   ]
  },
  {
   "cell_type": "markdown",
   "metadata": {},
   "source": [
    "Usando su código anterior, encuentre la altura de una pelota que es lanza desde 100 metros a t=1 s. Escriba su resultado."
   ]
  },
  {
   "cell_type": "code",
   "execution_count": 1,
   "metadata": {},
   "outputs": [
    {
     "name": "stdout",
     "output_type": "stream",
     "text": [
      "La altura de la pelota al tiempo 1 segundos despues de dejarse caer es de 95.095 metros\n"
     ]
    }
   ],
   "source": [
    "g = 9.81\n",
    "\n",
    "h0 = 100\n",
    "t = 1\n",
    "\n",
    "h1 = h0 - g * (t*t) / 2\n",
    "\n",
    "if h1 < 0: h1 = 0\n",
    "\n",
    "print('La altura de la pelota al tiempo', t, 'segundos despues de dejarse caer es de', h1, 'metros')"
   ]
  },
  {
   "cell_type": "raw",
   "metadata": {},
   "source": [
    "La altura de la pelota al tiempo 1 segundos despues de dejarse caer es de 95.095 metros"
   ]
  },
  {
   "cell_type": "markdown",
   "metadata": {},
   "source": [
    "Usando su código anterior, encuentre la altura de una pelota que es lanza desde 200 metros a t=10 s. Escriba su resultado."
   ]
  },
  {
   "cell_type": "code",
   "execution_count": null,
   "metadata": {},
   "outputs": [
    {
     "name": "stdout",
     "output_type": "stream",
     "text": [
      "La altura de la pelota al tiempo 10 segundos despues de dejarse caer es de 0 metros\n"
     ]
    }
   ],
   "source": [
    "g = 9.81\n",
    "\n",
    "h0 = 200\n",
    "t = 10\n",
    "\n",
    "h1 = h0 - g * (t*t) / 2\n",
    "\n",
    "if h1 < 0: h1 = 0\n",
    "\n",
    "print('La altura de la pelota al tiempo', t, 'segundos despues de dejarse caer es de', h1, 'metros')"
   ]
  },
  {
   "cell_type": "raw",
   "metadata": {},
   "source": [
    "La altura de la pelota al tiempo 10 segundos despues de dejarse caer es de 0 metros"
   ]
  },
  {
   "cell_type": "markdown",
   "metadata": {},
   "source": [
    "Explique su resultado."
   ]
  },
  {
   "cell_type": "raw",
   "metadata": {},
   "source": [
    "Despues de todos esos 10 segundos, la pelota ya se encontraba en el piso sin poder bajar mas"
   ]
  },
  {
   "cell_type": "markdown",
   "metadata": {},
   "source": [
    "Para arreglar su programa vamos a usar el condicional if. Este funciona de la siguiente manera:"
   ]
  },
  {
   "cell_type": "raw",
   "metadata": {},
   "source": [
    "if expresion1:\n",
    "   codigo\n",
    "elif expresion2:\n",
    "   codigo\n",
    "elif expresion3:\n",
    "   codigo\n",
    "else:\n",
    "   codigo"
   ]
  },
  {
   "cell_type": "markdown",
   "metadata": {},
   "source": [
    "donde expresion refiere a una condición, para estas generalmente se usan los siguientes operadores ==, <, > <=, >=, !="
   ]
  },
  {
   "cell_type": "markdown",
   "metadata": {},
   "source": [
    "Note que en python no necesitamos decir dónde termina el codigo para cada condicional, esto se especifica con la identación. Usando el condicional if reescriba su programa para la caída de la pelota para que no arroje números negativos e informe al usuario."
   ]
  },
  {
   "cell_type": "code",
   "execution_count": null,
   "metadata": {},
   "outputs": [],
   "source": [
    "g = 9.81\n",
    "\n",
    "h0 = int(input('ingresa la altura de la torre en metros: '))\n",
    "t = int(input('ingresa el tiempo en segundos al cual que quieres saber la altura: '))\n",
    "\n",
    "h1 = h0 - g * (t*t) / 2\n",
    "\n",
    "if h1 == 0:\n",
    "    print('La pelota cayo justo en el piso al tiempo', t, 'segundos')\n",
    "elif h1 < 0: \n",
    "    print('El tiempo ingresado en segundos excede el necesario para que la pelota llegue al piso')\n",
    "else: \n",
    "    print('La altura de la pelota al tiempo', t, 'segundos despues de dejarse caer es de', h1, 'metros')\n"
   ]
  },
  {
   "cell_type": "markdown",
   "metadata": {},
   "source": [
    "#### Ciclos en Python"
   ]
  },
  {
   "cell_type": "markdown",
   "metadata": {},
   "source": [
    "En python hay solo dos tipos de loops o ciclos y son los ciclos while y los ciclos for. El primero es:"
   ]
  },
  {
   "cell_type": "raw",
   "metadata": {},
   "source": [
    "while condicion:\n",
    "    bloque de código"
   ]
  },
  {
   "cell_type": "markdown",
   "metadata": {},
   "source": [
    "El bloque de código se ejecutará mientras se cumpla la condición (mientras sea verdadera). Escriba un codigo que sume todos los numeros pares del 1 al 500 y que imprima el resultado."
   ]
  },
  {
   "cell_type": "code",
   "execution_count": 2,
   "metadata": {},
   "outputs": [
    {
     "name": "stdout",
     "output_type": "stream",
     "text": [
      "la suma todos los numeros pares del 1 al 500 es 62750\n",
      "la suma todos los numeros pares del 1 al 500 es 62750\n"
     ]
    }
   ],
   "source": [
    "s = 0\n",
    "i=0\n",
    "\n",
    "while i < 500:\n",
    "    i+=1  \n",
    "    if i%2 ==0:\n",
    "        s += i  \n",
    "\n",
    "print('la suma todos los numeros pares del 1 al 500 es',s)\n",
    "\n",
    "#comprobando \n",
    "s = 0\n",
    "i=0\n",
    "for i in range(1,501):\n",
    "    if i%2 ==0:\n",
    "        s += i\n",
    "print('la suma todos los numeros pares del 1 al 500 es',s)"
   ]
  },
  {
   "cell_type": "markdown",
   "metadata": {},
   "source": [
    "El otro tipo de ciclo es el que ofrece for. Este tipo de ciclos es muy versatil, se basa en las listas (un tipo de variable en python) y funciona así:"
   ]
  },
  {
   "cell_type": "raw",
   "metadata": {},
   "source": [
    "for variable in lista:\n",
    "    bloque de código"
   ]
  },
  {
   "cell_type": "markdown",
   "metadata": {},
   "source": [
    "El bloque de código se ejecutará mientras no acabe de recorrer la lista. El valor de variable será el item de la lista que está siendo tratado en el momento. Ejemplo:"
   ]
  },
  {
   "cell_type": "raw",
   "metadata": {},
   "source": [
    "for i in range(-9, 10):\n",
    "    print i"
   ]
  },
  {
   "cell_type": "markdown",
   "metadata": {},
   "source": [
    "la función range retorna una lista de números según los parámetros de entrada: En este caso, range está generando una lista que va desde -9 hasta 9 (un número antes del segundo parámetro). La lista de números generada por range se representa así: [-9, -8, -7, -6, -5, -4, -3, -2, -1, 0, 1, 2, 3, 4, 5, 6, 7, 8, 9] El código de ejemplo imprimirá los números del -9 al 9. "
   ]
  },
  {
   "cell_type": "code",
   "execution_count": null,
   "metadata": {},
   "outputs": [
    {
     "name": "stdout",
     "output_type": "stream",
     "text": [
      "-9\n",
      "-8\n",
      "-7\n",
      "-6\n",
      "-5\n",
      "-4\n",
      "-3\n",
      "-2\n",
      "-1\n",
      "0\n",
      "1\n",
      "2\n",
      "3\n",
      "4\n",
      "5\n",
      "6\n",
      "7\n",
      "8\n",
      "9\n"
     ]
    }
   ],
   "source": [
    "i = 0\n",
    "for i in range(-9, 10):\n",
    "    print(i)"
   ]
  },
  {
   "cell_type": "markdown",
   "metadata": {},
   "source": [
    "Usando la función for, escriba un código que imprima los números primos entre 100 y 200."
   ]
  },
  {
   "cell_type": "code",
   "execution_count": null,
   "metadata": {},
   "outputs": [
    {
     "name": "stdout",
     "output_type": "stream",
     "text": [
      "la suma todos los numeros primos del 100 al 200 es 3167\n"
     ]
    }
   ],
   "source": [
    "s = 0\n",
    "i=0\n",
    "n=0\n",
    "\n",
    "for i in range(100,201):\n",
    "    esPrimo=True\n",
    "    for n in range(2, i):\n",
    "        if i%n == 0:\n",
    "            esPrimo=False\n",
    "    if esPrimo == True:\n",
    "        s += i\n",
    "            \n",
    "\n",
    "print('la suma todos los numeros primos del 100 al 200 es',s)"
   ]
  },
  {
   "cell_type": "markdown",
   "metadata": {},
   "source": [
    "#### Ejercicios"
   ]
  },
  {
   "cell_type": "markdown",
   "metadata": {},
   "source": [
    "1.- Considera una pelota lanzada desde una torre de altura $h$ y con velocidad inicial cero. Escriba un programa que pregunte al usuario la altura de la torre y diga el tiempo que tardará en caer la pelota."
   ]
  },
  {
   "cell_type": "code",
   "execution_count": null,
   "metadata": {},
   "outputs": [],
   "source": [
    "from math import sqrt\n",
    "g = 9.81\n",
    "\n",
    "h = int(input('ingresa la altura de la torre en metros: '))\n",
    "\n",
    "t = sqrt(2*h/g)\n",
    "\n",
    "print('el tiempo que tarda la pelota en caer al piso desde la altura de', h, 'metros es de', t, 'segundos')"
   ]
  },
  {
   "cell_type": "markdown",
   "metadata": {},
   "source": [
    "2.- Se lanzará un satelite para que realice una órbita circular alrededor de la tierra de manera tal que su periodo es de $T$ segundos.\n",
    "- Encuentre una expresión para la altura a la cual debe estar el satelite. Considere $G=6.67\\times 10^{-11}$ $m^{3}kg^{-1}s^{-2}$, la masa dela tierra $M=5.07\\times 10^{24}$ $Kg$  y $R=6371$ $Km$ su radio. Escriba su resultado aquí, puede usar codigo latex (usando el marcador \\$)"
   ]
  },
  {
   "attachments": {},
   "cell_type": "markdown",
   "metadata": {},
   "source": [
    "$h=\\sqrt[3]{\\frac{GMT^{2}}{4\\pi^{2}}}-R$"
   ]
  },
  {
   "cell_type": "markdown",
   "metadata": {},
   "source": [
    "- Escriba un programa que pregunte al usuario el valor deseado de $T$ y calcule e imprima la altura correcta en metros."
   ]
  },
  {
   "cell_type": "code",
   "execution_count": null,
   "metadata": {},
   "outputs": [],
   "source": [
    "import numpy as np\n",
    "import math \n",
    "\n",
    "G = 6.67 * 10**-11 #m^3/kg*s^2\n",
    "M = 5.07 * 10**24 #kg\n",
    "R = 6371 * 10**3 #m\n",
    "\n",
    "T = float(input('Ingrese el valor del periodo T en segundos: ')) \n",
    "\n",
    "h = (G*M * T**2 / (4 * math.pi**2))**(1/3) - R\n",
    "\n",
    "if h == 0: \n",
    "    print('Para cumplir con el periodo de', T , 'segundos, el satelite deberia estar a la altura de la suerficie')\n",
    "elif h < 0: \n",
    "    print('Cumplir con el periodo ingresado resulta imposile en las condiciones planteadas, prueba con un valor mas grande')\n",
    "else:\n",
    "    print('La altura de la orbita sobre la superficie terrestre es de', h, 'metros')\n"
   ]
  },
  {
   "cell_type": "markdown",
   "metadata": {},
   "source": [
    "- Use su programa para calcular la altura de las órbitas geosincronas aquellas que realizan una vuelta en un día. "
   ]
  },
  {
   "attachments": {},
   "cell_type": "markdown",
   "metadata": {},
   "source": [
    "h = 33617383.38027233 metros"
   ]
  },
  {
   "cell_type": "markdown",
   "metadata": {},
   "source": [
    "- Use su programa para calcular la altura de una órbita de 90 minutos y una de 45 minutos. ¿Qué concluye de estos resultados? "
   ]
  },
  {
   "attachments": {},
   "cell_type": "markdown",
   "metadata": {},
   "source": [
    "Cumplir con el periodo ingresado tanto de 90 como de 45 minutos resulta imposile en las condiciones planteadas."
   ]
  },
  {
   "cell_type": "markdown",
   "metadata": {},
   "source": [
    "- si es necesario usando condicionales para reescribir su programa."
   ]
  },
  {
   "cell_type": "code",
   "execution_count": null,
   "metadata": {},
   "outputs": [],
   "source": [
    "#ya los tiene, no es necesario"
   ]
  },
  {
   "cell_type": "markdown",
   "metadata": {},
   "source": [
    "."
   ]
  },
  {
   "attachments": {},
   "cell_type": "markdown",
   "metadata": {},
   "source": [
    "- Técnicamente un satelite geosíncrono es aquel que orbita la tierra una vez cada día sideral, que es 23.93 horas, no cada 24. ¿Porqué es esto? y ¿Qué diferencia daría esto en altitud?\n",
    "\n",
    "- dia sideral  --> 33539590.34362398 metros\n",
    "- dia 24 horas --> 33617383.38027233 metros"
   ]
  },
  {
   "cell_type": "markdown",
   "metadata": {},
   "source": [
    "."
   ]
  },
  {
   "cell_type": "markdown",
   "metadata": {},
   "source": [
    "3.- Usando ciclos aproxime el valor de $\\sqrt{3}$, usando la evaluación iterativa de la siguiente expresión $x=(x+3/x)/2$ iniciando con x=1. El código debe imprimir el valor en cada iteración. "
   ]
  },
  {
   "cell_type": "code",
   "execution_count": null,
   "metadata": {},
   "outputs": [
    {
     "name": "stdout",
     "output_type": "stream",
     "text": [
      "2.0\n",
      "1.75\n",
      "1.7321428571428572\n",
      "1.7320508100147274\n",
      "1.7320508075688772\n",
      "1.7320508075688772\n",
      "1.7320508075688772\n"
     ]
    }
   ],
   "source": [
    "x = 1\n",
    "for i in range(7):\n",
    "    x = (x + 3/x) / 2\n",
    "    print(x)"
   ]
  },
  {
   "cell_type": "markdown",
   "metadata": {},
   "source": [
    "## 2.- Paquetes y modulos para matemáticas y matrices"
   ]
  },
  {
   "cell_type": "markdown",
   "metadata": {},
   "source": [
    "Existen operaciones además de las aritméticas que vamos a necesitar en nuestras simulaciones, estas no están definidas defacto en python, sin embargo podemos usarlas si tan solo la importarmos del paquete y modulo apropiado. Por ejemplo supongamos que queremos calcular el error de nuestro cálculo de $\\sqrt{3}$ en el ejercicio anterior. Entonces tendríamos que comparar nuestra aproximación con el cálculo de función intrínseca. "
   ]
  },
  {
   "cell_type": "markdown",
   "metadata": {},
   "source": [
    "Para usar la función para sacar raiz primero la importamos así"
   ]
  },
  {
   "cell_type": "raw",
   "metadata": {},
   "source": [
    "from math import sqrt"
   ]
  },
  {
   "cell_type": "markdown",
   "metadata": {},
   "source": [
    "Modifique el ejercicio anterior para que imprima el error en cada iteracción con respecto a la función intrínseca de python."
   ]
  },
  {
   "cell_type": "code",
   "execution_count": null,
   "metadata": {},
   "outputs": [
    {
     "name": "stdout",
     "output_type": "stream",
     "text": [
      "valor aprox= 2.0 error: 15.47005383792516 %\n",
      "valor aprox= 1.75 error: 1.0362971081845145 %\n",
      "valor aprox= 1.7321428571428572 error: 0.005314484631615096 %\n",
      "valor aprox= 1.7320508100147274 error: 1.4121122650442793e-07 %\n",
      "valor aprox= 1.7320508075688772 error: 0.0 %\n"
     ]
    }
   ],
   "source": [
    "from math import sqrt\n",
    "\n",
    "import numpy as np\n",
    "x = 1 \n",
    "while x != sqrt(3):\n",
    "    x = (x + 3/x)/2\n",
    "    print('valor aprox=', x, 'error:', abs( (sqrt(3) - x) / sqrt(3) )* 100 , '%')"
   ]
  },
  {
   "cell_type": "markdown",
   "metadata": {},
   "source": [
    "El paquete math contiene la mayoría de las funciones básicas incluyendo: log, log10, exp, sin, cos, tan, atan, acos, atan. sinh, cosh, tanh, sqrt, etc. Si quiere verlas todas, visite la siguiente dirección __(https://docs.python.org/2/library/math.html)__ . si se quiere importar todas las funciones de un modulo se usa la siguiente expresión."
   ]
  },
  {
   "cell_type": "raw",
   "metadata": {},
   "source": [
    "from math import *"
   ]
  },
  {
   "cell_type": "markdown",
   "metadata": {},
   "source": [
    "Usemos estas funciones: Escriba un código que pregunte al usuario las coordenadas cartesianas $(x,y)$ y que arroje su representación en polares $(r,\\theta)$. "
   ]
  },
  {
   "cell_type": "code",
   "execution_count": null,
   "metadata": {},
   "outputs": [],
   "source": [
    "from math import atan2, sqrt\n",
    "\n",
    "print('ingresa las coordenadas cartesianas')\n",
    "x= int(input('x = '))\n",
    "y= int(input('y = '))\n",
    "\n",
    "print('cartesianas:', (x,y))\n",
    "\n",
    "r = sqrt(x**2 + y**2)\n",
    "theta = atan2(y, x) #considera el signo\n",
    "\n",
    "print('sus correspondientes coordenadas polares son:', (r,theta))\n"
   ]
  },
  {
   "attachments": {},
   "cell_type": "markdown",
   "metadata": {},
   "source": [
    "Escriba un código que hago la transformación inversa: pregunte al usuario la representación en polares $(r,\\theta)$ y arroje las coordenadas cartesianas $(x,y)$. "
   ]
  },
  {
   "cell_type": "code",
   "execution_count": null,
   "metadata": {},
   "outputs": [],
   "source": [
    "from math import cos, sin, radians\n",
    "\n",
    "print('ingresa las coordenadas polares')\n",
    "r= int(input('r = '))\n",
    "theta= int(input('theta = '))\n",
    "\n",
    "print('polares', (x,y))\n",
    "\n",
    "\n",
    "x = r * cos(radians(theta))\n",
    "y = r * sin(radians(theta))\n",
    "\n",
    "print('sus correspondientes coordenadas cartesianas son:', (x,y))"
   ]
  },
  {
   "cell_type": "markdown",
   "metadata": {},
   "source": [
    "### Matrices"
   ]
  },
  {
   "attachments": {},
   "cell_type": "markdown",
   "metadata": {},
   "source": [
    "Las matrices las vamos a tratar usando el paquete numpy (numerical python), de manera general existe dos maneras de importar funciones, por ejemplo si queremos usar la función array, podemos hacer dos cosas:"
   ]
  },
  {
   "cell_type": "raw",
   "metadata": {},
   "source": [
    "import numpy as np\n",
    "np.array([[1.],[2.],[3.]])"
   ]
  },
  {
   "cell_type": "markdown",
   "metadata": {},
   "source": [
    "O bien"
   ]
  },
  {
   "cell_type": "raw",
   "metadata": {},
   "source": [
    "from numpy import array\n",
    "array([[1.],[2.],[3.]])"
   ]
  },
  {
   "cell_type": "markdown",
   "metadata": {},
   "source": [
    "Usando array defina un vector columna $Vc$ de dimensión 4, un vector renglon $Vr$ de dimension 5 y una matrix $A$ de 3x3 con valores cualesquiera."
   ]
  },
  {
   "cell_type": "code",
   "execution_count": 4,
   "metadata": {},
   "outputs": [],
   "source": [
    "import numpy as np "
   ]
  },
  {
   "cell_type": "code",
   "execution_count": 5,
   "metadata": {},
   "outputs": [],
   "source": [
    "Vc = np.array([[1], [2], [3], [4]])\n",
    "Vr = np.array([1, 2, 3, 4, 5])\n",
    "A = np.array([[1, 2, 3], [4, 5, 6], [7, 8, 9]])\n"
   ]
  },
  {
   "cell_type": "markdown",
   "metadata": {},
   "source": [
    "Defina otra matriz de 3x3 B, y aplique las funciones aritméticas básicas con la matriz A."
   ]
  },
  {
   "cell_type": "code",
   "execution_count": 6,
   "metadata": {},
   "outputs": [
    {
     "name": "stdout",
     "output_type": "stream",
     "text": [
      "A+B = \n",
      " [[ 6 11  6]\n",
      " [13 12 12]\n",
      " [ 9  9 12]] \n",
      "\n",
      "A-B = \n",
      " [[-4 -7  0]\n",
      " [-5 -2  0]\n",
      " [ 5  7  6]] \n",
      "\n",
      "A*B = \n",
      " [[ 29  26  24]\n",
      " [ 77  77  60]\n",
      " [125 128  96]] \n",
      "\n",
      "2*A = \n",
      " [[ 2  4  6]\n",
      " [ 8 10 12]\n",
      " [14 16 18]] \n",
      "\n",
      "transpuesta de A = \n",
      " [[1 4 7]\n",
      " [2 5 8]\n",
      " [3 6 9]] \n",
      "\n"
     ]
    }
   ],
   "source": [
    "B = np.array([[5,9,3], [9, 7, 6], [2, 1, 3]])\n",
    "\n",
    "#suma\n",
    "C = A + B \n",
    "print('A+B = \\n', C , '\\n')\n",
    "#resta\n",
    "C = A - B\n",
    "print('A-B = \\n', C, '\\n')\n",
    "#producto de dos matrices\n",
    "C = np.dot(A,B)\n",
    "print('A*B = \\n', C, '\\n')\n",
    "#producto escalar\n",
    "C = 2 * A\n",
    "print('2*A = \\n', C, '\\n')\n",
    "#transpuesta \n",
    "C = A.T\n",
    "print('transpuesta de A = \\n', C, '\\n')"
   ]
  },
  {
   "cell_type": "markdown",
   "metadata": {},
   "source": [
    "¿Cómo se accesa a los valores de la matriz? supongamos que se quiere extraer el elemento 1,3 de A ¿Cómo se hace? Averigue y reporte sus resultados\n"
   ]
  },
  {
   "cell_type": "code",
   "execution_count": 7,
   "metadata": {},
   "outputs": [
    {
     "name": "stdout",
     "output_type": "stream",
     "text": [
      "[[1 2 3]\n",
      " [4 5 6]\n",
      " [7 8 9]] \n",
      "\n",
      "elemento(1,3): 3\n"
     ]
    }
   ],
   "source": [
    "print(A, '\\n')\n",
    "print('elemento(1,3):', A[0,2])"
   ]
  },
  {
   "cell_type": "markdown",
   "metadata": {},
   "source": [
    "se accede a los valores de la matriz de la siguiente manera: nombreMatriz[0,2]. En este ejemplo se accede al valor ubicado en el renglon 1 y columna 3, notese que, al igual que sucede con las listas, la enumeración de los elementos inicia desde el 0"
   ]
  },
  {
   "cell_type": "markdown",
   "metadata": {},
   "source": [
    "IMPORTANTE: (1) seguro ya notó que la numeración de los arreglos va de 0 a N-1, con N el rango de la matriz. (2) cuando se usa la siguiente sentencia Matriz_A=MatrizB python no crea dos variables si no que la matriz_A se vuelve una referencia de matriz_B, esto se puede cambiar haciendo por ejemplo matriz_A=1.\\*matriz_B o bien con la función copy."
   ]
  },
  {
   "cell_type": "markdown",
   "metadata": {
    "collapsed": true
   },
   "source": [
    "## 3.- Definición de Funciones"
   ]
  },
  {
   "cell_type": "markdown",
   "metadata": {},
   "source": [
    "Una función te permite definir un bloque de código reutilizable que se puede ejecutar muchas veces dentro de tu programa.Las funciones te permiten crear soluciones más modulares y si bien Python ya proporciona muchas funciones integradas como print() y len(), también puedes definir tus propias funciones para usar en tus proyectos.Una de las grandes ventajas de usar funciones en tu código es que reduce el número total de líneas de código en tu proyecto."
   ]
  },
  {
   "cell_type": "markdown",
   "metadata": {},
   "source": [
    "#### Sintaxis de las funciones"
   ]
  },
  {
   "cell_type": "markdown",
   "metadata": {},
   "source": [
    "En Python, una definición de función tiene las siguientes características:\n",
    "\n",
    "\n",
    "1.- La palabra clave def\n",
    "\n",
    "2.- Un nombre de función\n",
    "\n",
    "3.- Paréntesis ’()’, y dentro de los paréntesis los parámetros de entrada, aunque los parámetros de entrada sean opcionales.\n",
    "\n",
    "4.- Dos puntos ’:’\n",
    "\n",
    "5.- Algún bloque de código para ejecutar\n",
    "\n",
    "6.- Una sentencia de retorno (opcional)"
   ]
  },
  {
   "cell_type": "markdown",
   "metadata": {},
   "source": [
    "Ejemplo:"
   ]
  },
  {
   "cell_type": "raw",
   "metadata": {},
   "source": [
    "# función sin parámetros o retorno de valores\n",
    "def diHola():\n",
    "  print(\"Hello!\")\n",
    "\n",
    "diHola()  # llamada a la función, 'Hello!' se muestra en la consola\n",
    "\n",
    "# función con un parámetro\n",
    "def holaConNombre(name):\n",
    "  print(\"Hello \" + name + \"!\")\n",
    "\n",
    "holaConNombre(\"Ada\")  # llamada a la función, 'Hello Ada!' se muestra en la consola\n",
    "\n",
    "# función con múltiples parámetros con una sentencia de retorno\n",
    "def multiplica(val1, val2):\n",
    "  return val1 * val2\n",
    "\n",
    "multiplica(3, 5)  # muestra 15 en la consola"
   ]
  },
  {
   "cell_type": "markdown",
   "metadata": {},
   "source": [
    "Define una función que se llame Primos e imprima los números primos del 1 al 100"
   ]
  },
  {
   "cell_type": "code",
   "execution_count": 8,
   "metadata": {},
   "outputs": [
    {
     "name": "stdout",
     "output_type": "stream",
     "text": [
      "2\n",
      "3\n",
      "5\n",
      "7\n",
      "11\n",
      "13\n",
      "17\n",
      "19\n",
      "23\n",
      "29\n",
      "31\n",
      "37\n",
      "41\n",
      "43\n",
      "47\n",
      "53\n",
      "59\n",
      "61\n",
      "67\n",
      "71\n",
      "73\n",
      "79\n",
      "83\n",
      "89\n",
      "97\n"
     ]
    }
   ],
   "source": [
    "def primos():\n",
    "\n",
    "    for n in range(1, 101):\n",
    "        es_primo = True\n",
    "\n",
    "        if n > 1:\n",
    "\n",
    "            for i in range(2, n):\n",
    "\n",
    "                if (n % i) == 0:\n",
    "                    es_primo = False\n",
    "                    break\n",
    "                \n",
    "            if es_primo:\n",
    "                print(n)\n",
    "\n",
    "primos()"
   ]
  },
  {
   "cell_type": "markdown",
   "metadata": {},
   "source": [
    "Define una función que se llame PrimosN que pregunte el rango de números en los que va a encontrar los números primos y que de como salida el número de primos encontrados"
   ]
  },
  {
   "cell_type": "code",
   "execution_count": null,
   "metadata": {},
   "outputs": [],
   "source": [
    "def PrimosN():\n",
    "\n",
    "    inicio = int(input('inicio:'))\n",
    "    fin = int(input('fin:'))\n",
    "\n",
    "    contador = 0\n",
    "    for n in range(inicio, fin + 1):\n",
    "        es_primo = True\n",
    "        for i in range(2, n):\n",
    "            if (n % i) == 0:\n",
    "                es_primo = False\n",
    "                break\n",
    "        if es_primo:\n",
    "            contador += 1\n",
    "    return contador\n",
    "\n",
    "print('cantidad de numeros primos:',PrimosN())"
   ]
  },
  {
   "cell_type": "markdown",
   "metadata": {},
   "source": [
    "Define una funcion que se llame Mutl3p3 que tome de entrada dos matrices de 3x3 y de como salida la multiplicación de estas matrices."
   ]
  },
  {
   "cell_type": "code",
   "execution_count": 9,
   "metadata": {},
   "outputs": [],
   "source": [
    "import numpy as np\n",
    "\n",
    "A = np.array([[1, 2, 3], [4, 5, 6], [7, 8, 9]])\n",
    "B = np.array([[5,9,3], [9, 7, 6], [2, 1, 3]])"
   ]
  },
  {
   "cell_type": "code",
   "execution_count": 10,
   "metadata": {},
   "outputs": [
    {
     "data": {
      "text/plain": [
       "array([[ 29,  26,  24],\n",
       "       [ 77,  77,  60],\n",
       "       [125, 128,  96]])"
      ]
     },
     "execution_count": 10,
     "metadata": {},
     "output_type": "execute_result"
    }
   ],
   "source": [
    "def Mutl3p3(A,B):\n",
    "    C = np.dot(A,B)\n",
    "    return C\n",
    "\n",
    "Mutl3p3(A,B)"
   ]
  },
  {
   "cell_type": "markdown",
   "metadata": {},
   "source": [
    "Defina una función que tome como entrada dos matrices A y B y que calcule el conmutador es decir AB-BA y arroje como salida el valor del resultado de la conmutación"
   ]
  },
  {
   "cell_type": "code",
   "execution_count": 11,
   "metadata": {},
   "outputs": [
    {
     "data": {
      "text/plain": [
       "array([[-33, -53, -72],\n",
       "       [ -2, -24, -63],\n",
       "       [ 98,  95,  57]])"
      ]
     },
     "execution_count": 11,
     "metadata": {},
     "output_type": "execute_result"
    }
   ],
   "source": [
    "def conmutador(A, B):\n",
    "    C = np.dot(A,B) - np.dot(B,A)\n",
    "    return C\n",
    "\n",
    "conmutador(A,B)"
   ]
  },
  {
   "cell_type": "markdown",
   "metadata": {},
   "source": [
    "### Programación orientada a objetos"
   ]
  },
  {
   "cell_type": "markdown",
   "metadata": {},
   "source": [
    "Una de las características más importantes de python es que es un lenguaje orientado a objetos, para aprender sobre estas caráctieristicas, se invita a leer este artículo breve al respecto. https://aprendeconalf.es/docencia/python/manual/objetos/"
   ]
  }
 ],
 "metadata": {
  "kernelspec": {
   "display_name": "Python 3",
   "language": "python",
   "name": "python3"
  },
  "language_info": {
   "codemirror_mode": {
    "name": "ipython",
    "version": 3
   },
   "file_extension": ".py",
   "mimetype": "text/x-python",
   "name": "python",
   "nbconvert_exporter": "python",
   "pygments_lexer": "ipython3",
   "version": "3.11.0"
  },
  "vscode": {
   "interpreter": {
    "hash": "5238573367df39f7286bb46f9ff5f08f63a01a80960060ce41e3c79b190280fa"
   }
  }
 },
 "nbformat": 4,
 "nbformat_minor": 2
}
