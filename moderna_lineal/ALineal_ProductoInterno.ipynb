{
 "cells": [
  {
   "cell_type": "code",
   "execution_count": 1,
   "metadata": {},
   "outputs": [],
   "source": [
    "import numpy as np"
   ]
  },
  {
   "cell_type": "code",
   "execution_count": 2,
   "metadata": {},
   "outputs": [],
   "source": [
    "# Matrices\n",
    "x = np.array([[0, -1], \n",
    "              [-1, 0]])\n",
    "\n",
    "y = (1/np.sqrt(90)) * np.array([[3, 6], \n",
    "                               [3, -6]])\n"
   ]
  },
  {
   "cell_type": "code",
   "execution_count": 3,
   "metadata": {},
   "outputs": [
    {
     "name": "stdout",
     "output_type": "stream",
     "text": [
      "\n",
      "Matrices :\n",
      "x = [[ 0 -1]\n",
      " [-1  0]]\n",
      "\n",
      "y = [[ 0.31622777  0.63245553]\n",
      " [ 0.31622777 -0.63245553]]\n"
     ]
    }
   ],
   "source": [
    "print(\"\\nMatrices :\")\n",
    "print(\"x =\", x)\n",
    "print(\"\\ny =\", y)\n"
   ]
  },
  {
   "cell_type": "code",
   "execution_count": 4,
   "metadata": {},
   "outputs": [
    {
     "name": "stdout",
     "output_type": "stream",
     "text": [
      "\n",
      "Inner product of matrices x and y =\n",
      "[[-0.63245553  0.63245553]\n",
      " [-0.31622777 -0.31622777]]\n"
     ]
    }
   ],
   "source": [
    "  \n",
    "# Inner product of matrices\n",
    "print(\"\\nInner product of matrices x and y =\")\n",
    "print(np.inner(x, y))"
   ]
  },
  {
   "cell_type": "code",
   "execution_count": null,
   "metadata": {},
   "outputs": [],
   "source": []
  }
 ],
 "metadata": {
  "kernelspec": {
   "display_name": "Python 3",
   "language": "python",
   "name": "python3"
  },
  "language_info": {
   "codemirror_mode": {
    "name": "ipython",
    "version": 3
   },
   "file_extension": ".py",
   "mimetype": "text/x-python",
   "name": "python",
   "nbconvert_exporter": "python",
   "pygments_lexer": "ipython3",
   "version": "3.11.0"
  },
  "orig_nbformat": 4
 },
 "nbformat": 4,
 "nbformat_minor": 2
}
