{
 "cells": [
  {
   "cell_type": "code",
   "execution_count": 3,
   "metadata": {},
   "outputs": [
    {
     "name": "stdout",
     "output_type": "stream",
     "text": [
      "Promedio inicial: 92.72\n",
      "Nuevo promedio después de añadir r: 91.90\n",
      "Nuevo promedio después de añadir comp: 91.12\n",
      "Nuevo promedio después de añadir est : 91.10\n",
      "Nuevo promedio después de añadir cuant: 90.37\n",
      "Nuevo promedio después de añadir mod lineal : 90.14\n"
     ]
    }
   ],
   "source": [
    "def leer_calificaciones(nombre_archivo):\n",
    "    calificaciones = {}\n",
    "    try:\n",
    "        with open(nombre_archivo, 'r') as archivo:\n",
    "            for linea in archivo:\n",
    "                partes = linea.rsplit(' ', 1)\n",
    "                if len(partes) == 2:\n",
    "                    materia, calificacion = partes\n",
    "                    try:\n",
    "                        calificaciones[materia.strip()] = float(calificacion.strip())\n",
    "                    except ValueError:\n",
    "                        # Ignorar líneas que no contienen una calificación válida\n",
    "                        continue\n",
    "    except FileNotFoundError:\n",
    "        print(f\"El archivo {nombre_archivo} no se encontró.\")\n",
    "    return calificaciones\n",
    "\n",
    "def calcular_promedio(calificaciones):\n",
    "    total = sum(calificaciones.values())\n",
    "    numero_materias = len(calificaciones)\n",
    "    promedio = total / numero_materias\n",
    "    return promedio\n",
    "\n",
    "def añadir_calificacion(nombre_archivo, materia, calificacion):\n",
    "    with open(nombre_archivo, 'a') as archivo:\n",
    "        archivo.write(f\"{materia} {calificacion}\\n\")\n",
    "\n",
    "def actualizar_calificaciones(nombre_archivo):\n",
    "    calificaciones = leer_calificaciones(nombre_archivo)\n",
    "    return calificaciones\n",
    "\n",
    "# Nombre del archivo de calificaciones\n",
    "nombre_archivo = 'calificaciones.txt'\n",
    "\n",
    "# Leer calificaciones del archivo y calcular el promedio inicial\n",
    "calificaciones = leer_calificaciones(nombre_archivo)\n",
    "if calificaciones:\n",
    "    promedio_inicial = calcular_promedio(calificaciones)\n",
    "    print(f\"Promedio inicial: {promedio_inicial:.2f}\")\n",
    "\n",
    "# Función para añadir nuevas calificaciones de forma interactiva\n",
    "def añadir_calificaciones_interactivas(nombre_archivo):\n",
    "    while True:\n",
    "        materia = input(\"Ingrese el nombre de la materia (o 'salir' para terminar): \")\n",
    "        if materia.lower() == 'salir':\n",
    "            break\n",
    "        try:\n",
    "            calificacion = float(input(f\"Ingrese la calificación para {materia}: \"))\n",
    "            añadir_calificacion(nombre_archivo, materia, calificacion)\n",
    "            calificaciones = actualizar_calificaciones(nombre_archivo)\n",
    "            nuevo_promedio = calcular_promedio(calificaciones)\n",
    "            print(f\"Nuevo promedio después de añadir {materia}: {nuevo_promedio:.2f}\")\n",
    "        except ValueError:\n",
    "            print(\"Calificación inválida. Por favor, ingrese un número.\")\n",
    "\n",
    "# Añadir calificaciones de forma interactiva\n",
    "añadir_calificaciones_interactivas(nombre_archivo)\n"
   ]
  },
  {
   "cell_type": "code",
   "execution_count": null,
   "metadata": {},
   "outputs": [],
   "source": []
  }
 ],
 "metadata": {
  "kernelspec": {
   "display_name": "Python 3",
   "language": "python",
   "name": "python3"
  },
  "language_info": {
   "codemirror_mode": {
    "name": "ipython",
    "version": 3
   },
   "file_extension": ".py",
   "mimetype": "text/x-python",
   "name": "python",
   "nbconvert_exporter": "python",
   "pygments_lexer": "ipython3",
   "version": "3.10.12"
  }
 },
 "nbformat": 4,
 "nbformat_minor": 2
}
