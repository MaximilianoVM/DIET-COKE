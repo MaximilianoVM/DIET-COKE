{
 "cells": [
  {
   "cell_type": "markdown",
   "metadata": {},
   "source": [
    "# Sesión 1: CLASES Y ABSTRACCIÓN DE DATOS\n",
    "\n",
    "\n",
    "* Ahora iniciaremos con la programación orientada a objetos en python.\n",
    "\n",
    "* Recuerden que POO encapsula __datos (atributos)__ y __funciones (métodos)__ en paquetes llamados __clases__.\n",
    "\n",
    "* Los atributos y métodos de una clase están __ligados__ entre si.\n",
    "\n",
    "* De las clases podemos generar los __objetos__ necesarios.\n",
    "\n",
    "* __Encapsulamiento__ refiere a la capacidad de mantener cierta información de una clase, __oculta__ de las demás.\n",
    "\n",
    "\n",
    "<br>\n",
    "\n",
    "\n",
    "* a la instancia de una clase se le llama objeto.\n",
    "\n",
    "## definiremos un tipo de objeto abstracto (Hora) como una clase de Python. \n",
    "\n",
    "*In Python, all class attributes and methods are __public by default__. However, you can indicate that an attribute or method is intended to be private by prefixing its name with an __underscore `_`__. This is a convention and does not enforce strict access control like in C++.)*"
   ]
  },
  {
   "cell_type": "code",
   "execution_count": 1,
   "metadata": {},
   "outputs": [],
   "source": [
    "class Hora: \n",
    "    def __init__(self, hora, minuto, segundo): #\"define hora\"\n",
    "        self.hora = hora\n",
    "        self.minuto = minuto \n",
    "        self.segundo = segundo\n",
    "\n",
    "    def cambia_hora(self, hora, minuto, segundo): #\"define hora\"\n",
    "        self.hora = hora\n",
    "        self.minuto = minuto \n",
    "        self.segundo = segundo\n",
    "\n",
    "    def imprime_estandar(self): \n",
    "        return f\"{self.hora}:{self.minuto}:{self.segundo}\"\n",
    "    \n",
    "    def imprime_extendida(self): \n",
    "        return f\"Hora: {self.hora}, Minuto: {self.minuto}, Segundo: {self.segundo}\""
   ]
  },
  {
   "cell_type": "code",
   "execution_count": 2,
   "metadata": {},
   "outputs": [
    {
     "name": "stdout",
     "output_type": "stream",
     "text": [
      "10:30:45\n",
      "Hora: 10, Minuto: 30, Segundo: 45\n"
     ]
    }
   ],
   "source": [
    "#Ejemplo de uso \n",
    "hora_actual = Hora(10, 30, 45)\n",
    "print(hora_actual.imprime_estandar())\n",
    "print(hora_actual.imprime_extendida())"
   ]
  },
  {
   "cell_type": "code",
   "execution_count": 7,
   "metadata": {},
   "outputs": [
    {
     "name": "stdout",
     "output_type": "stream",
     "text": [
      "23:54:65\n"
     ]
    }
   ],
   "source": [
    "horaa = Hora(23, 54, 65)\n",
    "print(horaa.imprime_estandar())"
   ]
  },
  {
   "cell_type": "code",
   "execution_count": 11,
   "metadata": {},
   "outputs": [
    {
     "name": "stdout",
     "output_type": "stream",
     "text": [
      "1:22:5\n"
     ]
    },
    {
     "data": {
      "text/plain": [
       "'1:22:5'"
      ]
     },
     "execution_count": 11,
     "metadata": {},
     "output_type": "execute_result"
    }
   ],
   "source": [
    "horaa.cambia_hora(1, 22, 5)\n",
    "\n",
    "# con print\n",
    "print(horaa.imprime_estandar())\n",
    "# sin print\n",
    "horaa.imprime_estandar()"
   ]
  },
  {
   "cell_type": "markdown",
   "metadata": {},
   "source": [
    "## [!!!] EJERCICIO \n",
    "\n",
    "* extendida: horario de 24 horas\n",
    "\n",
    "* rechazar fuera de rango\n",
    "\n",
    "* inicia en 0s con el constructor "
   ]
  },
  {
   "cell_type": "markdown",
   "metadata": {},
   "source": [
    "En Python, el :02 es una especificación de formato \n",
    "\n",
    "\n",
    "asegurar que los números se impriman con al menos dos dígitos, rellenando con ceros a la izquierda si es necesario"
   ]
  },
  {
   "cell_type": "code",
   "execution_count": null,
   "metadata": {},
   "outputs": [],
   "source": [
    "class Hora:\n",
    "    def __init__(self):\n",
    "        self.hora = 0\n",
    "        self.minuto = 0\n",
    "        self.segundo = 0\n",
    "\n",
    "    def define_hora(self, h, m, s):\n",
    "        self.hora = h if 0 <= h <= 24 else 0\n",
    "        self.minuto = m if 0 <= m <= 59 else 0\n",
    "        self.segundo = s if 0 <= s <= 59 else 0\n",
    "\n",
    "    def imprime_estandar(self):\n",
    "        periodo = \"AM\" if self.hora < 12 else \"PM\"\n",
    "        hora_estandar = self.hora % 12\n",
    "        hora_estandar = 12 if hora_estandar == 0 else hora_estandar\n",
    "        return f\"{hora_estandar:02}:{self.minuto:02} {periodo}\"\n",
    "\n",
    "    def imprime_extendida(self):\n",
    "        return f\"{self.hora:02}:{self.minuto:02}:{self.segundo:02}\"\n",
    "\n",
    "# Ejemplo de uso\n",
    "hora_actual = Hora()\n",
    "print(\"La hora extendida inicial es:\", hora_actual.imprime_extendida())\n",
    "\n",
    "hora_actual.define_hora(15, 20, 5)\n",
    "print(\"La nueva hora extendida es:\", hora_actual.imprime_extendida())\n",
    "print(\"La hora en formato estándar es:\", hora_actual.imprime_estandar())"
   ]
  },
  {
   "cell_type": "markdown",
   "metadata": {},
   "source": [
    "## [!!!] EJERCICIO \n",
    "\n",
    "1. Incluir la funcionalidad para imprimir los segundos en el método imprimeExtendida()\n",
    "2. Realizar el método imprimeEstandar() del ejemplo anterior.\n",
    "3. Genere una clase calculadora sin atributos. Incluir la siguiente funcionalidad:\n",
    "* Implementar un método para cada operación básica que reciban como parámetros los dos valores de la operación, no regrese valor, e imprima el resultado.\n",
    "* En el main(), crear una instancia de la clase, solicitar operaciones usando: <valor><operador><valor> y mandar llamar al método correspondiente.\n",
    "4. Agregar a la clase el atributo resultado con valor predeterminado igual a cero. Incluir la siguiente funcionalidad:\n",
    "* Las funciones ya solo deben almacenar el resultado en el atributo de la clase.\n",
    "* Implementar el método imprimeResultado().\n",
    "* Llamar a imprimeResultado() desde los métodos de  las operaciones.\n",
    "* Implementar la funcionalidad Clear de la calculadora (C)\n",
    "* Terminar al indicar salir (S)"
   ]
  },
  {
   "cell_type": "code",
   "execution_count": 1,
   "metadata": {},
   "outputs": [
    {
     "name": "stdout",
     "output_type": "stream",
     "text": [
      "HOla como estás\n"
     ]
    }
   ],
   "source": []
  },
  {
   "cell_type": "code",
   "execution_count": 1,
   "metadata": {},
   "outputs": [],
   "source": [
    "class Alumno:\n",
    "    def __init__(self, nombre, edad):\n",
    "        self._nombre = nombre\n",
    "        self._edad = edad\n",
    "\n",
    "    @property\n",
    "    def nombre(self):\n",
    "        return self._nombre\n",
    "\n",
    "    @nombre.setter\n",
    "    def nombre(self, value):\n",
    "        self._nombre = value\n",
    "\n",
    "    @property\n",
    "    def edad(self):\n",
    "        return self._edad\n",
    "\n",
    "    @edad.setter\n",
    "    def edad(self, value):\n",
    "        if value >= 0:\n",
    "            self._edad = value\n",
    "        else:\n",
    "            raise ValueError(\"La edad no puede ser negativa\")\n",
    "\n",
    "    def actualiza_datos(self, nombre, edad):\n",
    "        self.nombre = nombre\n",
    "        self.edad = edad\n",
    "\n",
    "    def imprime_datos(self):\n",
    "        print(f\"Nombre: {self.nombre}\")\n",
    "        print(f\"Edad: {self.edad}\")"
   ]
  },
  {
   "cell_type": "code",
   "execution_count": 3,
   "metadata": {},
   "outputs": [
    {
     "name": "stdout",
     "output_type": "stream",
     "text": [
      "Nombre: Ana\n",
      "Edad: 18\n",
      "\n"
     ]
    }
   ],
   "source": [
    "# Ejemplo de uso\n",
    "alumno = Alumno(\"Ana\", 18)\n",
    "alumno.imprime_datos()\n",
    "print()"
   ]
  },
  {
   "cell_type": "code",
   "execution_count": 4,
   "metadata": {},
   "outputs": [
    {
     "name": "stdout",
     "output_type": "stream",
     "text": [
      "Nombre: Juan\n",
      "Edad: 18\n"
     ]
    }
   ],
   "source": [
    "\n",
    "alumno.nombre = \"Juan\"\n",
    "alumno.imprime_datos()"
   ]
  },
  {
   "cell_type": "code",
   "execution_count": null,
   "metadata": {},
   "outputs": [],
   "source": []
  }
 ],
 "metadata": {
  "kernelspec": {
   "display_name": "base",
   "language": "python",
   "name": "python3"
  },
  "language_info": {
   "codemirror_mode": {
    "name": "ipython",
    "version": 3
   },
   "file_extension": ".py",
   "mimetype": "text/x-python",
   "name": "python",
   "nbconvert_exporter": "python",
   "pygments_lexer": "ipython3",
   "version": "3.10.12"
  }
 },
 "nbformat": 4,
 "nbformat_minor": 2
}
