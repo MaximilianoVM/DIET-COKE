{
 "cells": [
  {
   "cell_type": "markdown",
   "metadata": {},
   "source": [
    "<h1> Sesión 1: Introducción</h1>"
   ]
  },
  {
   "cell_type": "markdown",
   "metadata": {},
   "source": [
    "# Tipos de Programación\n",
    "\n",
    "## Estructurada: \n",
    "* Se basa en una estructura secuencial top-down, sin saltos en la lógica.\n",
    "* Utiliza tres estructuras de control: secuencia, selección e iteración.\n",
    "* Las instrucciones están más relacionadas entre sí, agrupadas en funciones (procedimental).\n",
    "* Es fácil de comprender lo que hace el programa.\n",
    "* Permite detección rápida de errores\n",
    "\n",
    "## Orientada a Objetos:\n",
    "* Utiliza las bondades de la programación estructurada.: <br>\n",
    "     Estructuras de control.<br>\n",
    "    Manejo de funciones (métodos).\n",
    "* Encapsula datos y métodos de objetos similares.\n",
    "* La unidad de programación es la clase.\n",
    "* El objeto es la abstracción de instancias del mundo real.\n",
    "* El objeto posee características y funcionalidades.\n",
    "* Soportan la unión semántica de datos y operaciones.\n"
   ]
  },
  {
   "cell_type": "markdown",
   "metadata": {},
   "source": [
    "<img src=\"f1.png\" alt=\"image\" width=\"400\"/> \n",
    "<img src=\"f2.png\" alt=\"image\" width=\"500\"/>"
   ]
  },
  {
   "cell_type": "markdown",
   "metadata": {},
   "source": [
    "# Diseño orientado a objetos\n",
    "El diseño orientado a objetos (DOO), como otras metodologías de diseño orientadas al modelado de información, crea una representación del problema del mundo real y lo transforma al dominio del software. \n",
    "\n",
    "\n",
    "* El DOO da como resultado un diseño en el cual los datos (atributos) y las operaciones (métodos) de un objeto son encapsuladas.\n",
    "* El software es una colección de objetos que incorpora tanto estructuras de datos como procedimientos. \n",
    "* Este encapsulamiento es el paradigma  fundamental de la programación por objetos.\n",
    "* Esto contrasta con la programación convencional, en la cual las estructuras de datos y el comportamiento (funcionalidades) no están directamente conectados."
   ]
  },
  {
   "cell_type": "markdown",
   "metadata": {},
   "source": [
    "# ¿ Qué es un Objeto ?\n",
    "   Un objeto es la representación de una entidad física o abstracta que tiene un comportamiento ante ciertos estímulos, tanto internos como de otros objetos externos que se encuentran dentro del sistema.\n",
    "\n",
    "## ¿ Qué se puede considerar como objeto ?\n",
    "\t- Personas\n",
    "\t- Equipos (hardware)\n",
    "\t- Materiales\n",
    "\t- Procesos / procedimientos\n",
    "\t- Fenómenos naturales\n",
    "\t- Eventos\n",
    "\t- Etc.\n",
    "\n",
    "\n",
    "### Objeto Físico: Producto\n",
    "* Atributos: Tamaño/Color/Tipo_energía/Precio\n",
    "* Operaciones: Venta / Compra / Devolución \n",
    "### Objeto Físico: Mascota\n",
    "* Atributos: Color/Raza/Nombre/Edad\n",
    "* Operaciones: Alta/Servicio/Operación\n",
    "### Objeto Abstracto: Curso\n",
    "* Atributos: Nombre/Horario/Créditos/Salón\n",
    "* Operaciones: Crear/Editar/Eliminar/Programar"
   ]
  },
  {
   "cell_type": "markdown",
   "metadata": {},
   "source": [
    "# Objetos y Clases\n",
    "* Los objetos de una clase son conocidos como instancias de la clase.\n",
    "\n",
    "* El molde del pastel es la clase y cada pastel horneado en ese molde es un objeto de esa clase.\n",
    "\n",
    "* Entonces, una clase es el prototipo o modelo que define las variables y métodos de objetos.\n",
    "\n",
    "\n",
    "<img src=\"f4.png\" alt=\"image\" width=\"500\"/> "
   ]
  },
  {
   "cell_type": "markdown",
   "metadata": {},
   "source": [
    "# Ejercicio:\n",
    "* Definir las clases y mensajes entre actores de un consultorio médico (ej.  entre médico, paciente, receta, medicina, etc.).\n",
    "\n",
    "* Definir las clases y mensajes entre actores en un restaurante/bar (ej. mesero, cliente, orden, platillo, etc.).\n"
   ]
  },
  {
   "cell_type": "code",
   "execution_count": null,
   "metadata": {},
   "outputs": [],
   "source": []
  },
  {
   "cell_type": "code",
   "execution_count": null,
   "metadata": {},
   "outputs": [],
   "source": []
  },
  {
   "cell_type": "code",
   "execution_count": null,
   "metadata": {},
   "outputs": [],
   "source": []
  }
 ],
 "metadata": {
  "language_info": {
   "name": "python"
  }
 },
 "nbformat": 4,
 "nbformat_minor": 2
}
