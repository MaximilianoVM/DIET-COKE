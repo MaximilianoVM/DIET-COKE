{
 "cells": [
  {
   "cell_type": "markdown",
   "metadata": {},
   "source": [
    "<h1> Sesión 3: Herencia y Polimorfismo en Python</h1>\n",
    "Esta sesión cubre conceptos clave de herencia y polimorfismo en Python, incluyendo cómo utilizar superclases y subclases, el método super(), y el uso de clases abstractas. Aquí te proporciono ejemplos y explicaciones para cada tema."
   ]
  },
  {
   "cell_type": "markdown",
   "metadata": {},
   "source": [
    "# 1. Herencia\n",
    "La herencia permite a una clase (subclase) heredar atributos y métodos de otra clase (superclase). Esto promueve la reutilización del código y facilita la creación de jerarquías de clases.\n",
    "\n",
    "**Ejemplo:**"
   ]
  },
  {
   "cell_type": "code",
   "execution_count": 1,
   "metadata": {},
   "outputs": [
    {
     "name": "stdout",
     "output_type": "stream",
     "text": [
      "Rex dice: Guau\n",
      "Misu dice: Miau\n"
     ]
    }
   ],
   "source": [
    "class Animal:\n",
    "    def __init__(self, nombre):\n",
    "        self.nombre = nombre\n",
    "\n",
    "    def hacer_sonido(self):\n",
    "        return \"Sonido genérico\"\n",
    "\n",
    "class Perro(Animal):\n",
    "    def __init__(self, nombre, raza):\n",
    "        super().__init__(nombre)  # Llamada al constructor de la superclase\n",
    "        self.raza = raza\n",
    "\n",
    "    def hacer_sonido(self):\n",
    "        return \"Guau\"\n",
    "\n",
    "class Gato(Animal):\n",
    "    def __init__(self, nombre, color):\n",
    "        super().__init__(nombre)  # Llamada al constructor de la superclase\n",
    "        self.color = color\n",
    "\n",
    "    def hacer_sonido(self):\n",
    "        return \"Miau\"\n",
    "\n",
    "# Uso de la herencia\n",
    "perro = Perro(\"Rex\", \"Labrador\")\n",
    "gato = Gato(\"Misu\", \"Blanco\")\n",
    "\n",
    "print(f\"{perro.nombre} dice: {perro.hacer_sonido()}\")  # Rex dice: Guau\n",
    "print(f\"{gato.nombre} dice: {gato.hacer_sonido()}\")   # Misu dice: Miau\n"
   ]
  },
  {
   "cell_type": "markdown",
   "metadata": {},
   "source": [
    "# 2. Superclases y Subclases\n",
    "* Superclase: Es la clase base de la cual se heredan atributos y métodos.\n",
    "* Subclase: Es la clase que hereda de la superclase.\n",
    "\n",
    "\n",
    "**Ejemplo:**\n",
    "\n",
    "En el ejemplo anterior, Animal es la superclase y Perro y Gato son subclases que heredan de Animal."
   ]
  },
  {
   "cell_type": "code",
   "execution_count": null,
   "metadata": {},
   "outputs": [],
   "source": []
  },
  {
   "cell_type": "markdown",
   "metadata": {},
   "source": [
    "# 3. Uso del Método super()\n",
    "El método __super()__ se utiliza para llamar a métodos de la superclase desde la subclase, lo cual es útil para extender la funcionalidad de la clase base.\n",
    "\n",
    "**Ejemplo:**"
   ]
  },
  {
   "cell_type": "code",
   "execution_count": null,
   "metadata": {},
   "outputs": [],
   "source": [
    "class Vehiculo:\n",
    "    def __init__(self, marca, modelo):\n",
    "        self.marca = marca\n",
    "        self.modelo = modelo\n",
    "\n",
    "    def descripcion(self):\n",
    "        return f\"{self.marca} {self.modelo}\"\n",
    "\n",
    "class Coche(Vehiculo):\n",
    "    def __init__(self, marca, modelo, puertas): #[===== !!!!!!! =====]\n",
    "        super().__init__(marca, modelo)  # Llamada al constructor de Vehiculo\n",
    "        self.puertas = puertas\n",
    "\n",
    "    def descripcion(self):\n",
    "        return f\"{super().descripcion()} con {self.puertas} puertas\"\n",
    "\n",
    "# Uso de super()\n",
    "coche = Coche(\"Toyota\", \"Corolla\", 4)\n",
    "print(coche.descripcion())  # Toyota Corolla con 4 puertas\n"
   ]
  },
  {
   "cell_type": "markdown",
   "metadata": {},
   "source": [
    "En este ejemplo, **super()._init__(marca, modelo)** llama al constructor de Vehiculo para inicializar los atributos marca y modelo, y **super().descripcion()** llama al método descripcion de Vehiculo."
   ]
  },
  {
   "cell_type": "markdown",
   "metadata": {},
   "source": [
    "# 4. Polimorfismo\n",
    "El polimorfismo permite que un mismo método tenga diferentes comportamientos en diferentes clases. Esto se logra mediante la **sobrecarga de métodos** (method overriding) en clases derivadas.\n",
    "\n",
    "**Ejemplo:**"
   ]
  },
  {
   "cell_type": "code",
   "execution_count": 2,
   "metadata": {},
   "outputs": [
    {
     "name": "stdout",
     "output_type": "stream",
     "text": [
      "Área: 78.53981633974483\n",
      "Área: 16\n"
     ]
    }
   ],
   "source": [
    "class Forma:\n",
    "    def area(self):\n",
    "        raise NotImplementedError(\"Subclases deben implementar este método\")\n",
    "\n",
    "class Circulo(Forma):\n",
    "    def __init__(self, radio):\n",
    "        self.radio = radio\n",
    "\n",
    "    def area(self):\n",
    "        import math\n",
    "        return math.pi * (self.radio ** 2)\n",
    "\n",
    "class Cuadrado(Forma):\n",
    "    def __init__(self, lado):\n",
    "        self.lado = lado\n",
    "\n",
    "    def area(self):\n",
    "        return self.lado ** 2\n",
    "\n",
    "# Uso del polimorfismo\n",
    "formas = [Circulo(5), Cuadrado(4)]\n",
    "\n",
    "for forma in formas:\n",
    "    print(f\"Área: {forma.area()}\")"
   ]
  },
  {
   "cell_type": "markdown",
   "metadata": {},
   "source": [
    "En este ejemplo, el método **area()** tiene diferentes implementaciones en Circulo y Cuadrado, demostrando el polimorfismo."
   ]
  },
  {
   "cell_type": "markdown",
   "metadata": {},
   "source": [
    "# 5. Clases Abstractas e Interfaces\n",
    "Las clases abstractas son clases que no se pueden instanciar directamente y sirven como plantillas para otras clases. En Python, se utilizan con el módulo abc.\n",
    "\n",
    "**Ejemplo:**"
   ]
  },
  {
   "cell_type": "code",
   "execution_count": 3,
   "metadata": {},
   "outputs": [
    {
     "name": "stdout",
     "output_type": "stream",
     "text": [
      "Área: 12.0\n",
      "Perímetro: 18\n"
     ]
    }
   ],
   "source": [
    "from abc import ABC, abstractmethod\n",
    "\n",
    "class FiguraGeometrica(ABC):\n",
    "    @abstractmethod\n",
    "    def area(self):\n",
    "        pass\n",
    "\n",
    "    @abstractmethod\n",
    "    def perimetro(self):\n",
    "        pass\n",
    "\n",
    "class Triangulo(FiguraGeometrica):\n",
    "    def __init__(self, base, altura):\n",
    "        self.base = base\n",
    "        self.altura = altura\n",
    "\n",
    "    def area(self):\n",
    "        return (self.base * self.altura) / 2\n",
    "\n",
    "    def perimetro(self):\n",
    "        # Implementación simplificada, asumir que es un triángulo equilátero para este ejemplo\n",
    "        return 3 * self.base\n",
    "\n",
    "# Uso de la clase abstracta\n",
    "triangulo = Triangulo(6, 4)\n",
    "print(f\"Área: {triangulo.area()}\")          # Área: 12.0\n",
    "print(f\"Perímetro: {triangulo.perimetro()}\")  # Perímetro: 18\n"
   ]
  }
 ],
 "metadata": {
  "kernelspec": {
   "display_name": "Python 3",
   "language": "python",
   "name": "python3"
  },
  "language_info": {
   "codemirror_mode": {
    "name": "ipython",
    "version": 3
   },
   "file_extension": ".py",
   "mimetype": "text/x-python",
   "name": "python",
   "nbconvert_exporter": "python",
   "pygments_lexer": "ipython3",
   "version": "3.10.12"
  }
 },
 "nbformat": 4,
 "nbformat_minor": 2
}
