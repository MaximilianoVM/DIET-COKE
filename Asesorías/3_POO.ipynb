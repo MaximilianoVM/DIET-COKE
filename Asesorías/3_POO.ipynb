{
 "cells": [
  {
   "cell_type": "markdown",
   "metadata": {},
   "source": [
    "<h1> Sesión 2: Encapsulamiento, Metodos de acceso, Abstracción y Metodos-Atributos Privados</h1>"
   ]
  },
  {
   "cell_type": "code",
   "execution_count": 1,
   "metadata": {},
   "outputs": [
    {
     "name": "stdout",
     "output_type": "stream",
     "text": [
      "1000\n",
      "2000\n",
      "El saldo no puede ser negativo.\n"
     ]
    }
   ],
   "source": [
    "class CuentaBancaria:\n",
    "    def __init__(self, titular, saldo):\n",
    "        self.titular = titular\n",
    "        self.__saldo = saldo\n",
    "\n",
    "    def get_saldo(self):\n",
    "        return self.__saldo\n",
    "\n",
    "    def set_saldo(self, nuevo_saldo):\n",
    "        if nuevo_saldo >= 0:\n",
    "            self.__saldo = nuevo_saldo\n",
    "        else:\n",
    "            print(\"El saldo no puede ser negativo.\")\n",
    "\n",
    "# Uso de getters y setters\n",
    "cuenta = CuentaBancaria(\"Juan Pérez\", 1000)\n",
    "print(cuenta.get_saldo())  # Saldo actual: 1000\n",
    "\n",
    "cuenta.set_saldo(2000)     # Actualiza el saldo\n",
    "print(cuenta.get_saldo())  # Saldo actual: 2000\n",
    "\n",
    "cuenta.set_saldo(-500)     # Intento de establecer un saldo negativo (no permitido)\n"
   ]
  },
  {
   "cell_type": "markdown",
   "metadata": {},
   "source": [
    "El encapsulamiento es una de las características fundamentales de la POO. Se refiere a la idea de agrupar los datos (atributos) y los métodos que operan sobre esos datos en una sola unidad llamada clase. Además, el encapsulamiento permite ocultar la implementación interna de los objetos y solo exponer lo necesario a través de una interfaz pública."
   ]
  },
  {
   "cell_type": "markdown",
   "metadata": {},
   "source": [
    "# 1. Encapsulamiento Básico\n",
    "\n",
    "En Python, el encapsulamiento se implementa mediante la definición de atributos y métodos dentro de una clase. Estos atributos y métodos pueden ser públicos o privados.\n",
    "\n"
   ]
  },
  {
   "cell_type": "code",
   "execution_count": 5,
   "metadata": {},
   "outputs": [],
   "source": [
    "class CuentaBancaria:\n",
    "    def __init__(self, titular, saldo):\n",
    "        self.titular = titular  # Atributo público\n",
    "        self.__saldo = saldo    # Atributo privado (usando doble guion bajo)\n",
    "\n",
    "    def depositar(self, cantidad):\n",
    "        if cantidad > 0:\n",
    "            self.__saldo += cantidad\n",
    "        else:\n",
    "            print(\"No se puede depositar una cantidad negativa.\")\n",
    "\n",
    "    def retirar(self, cantidad):\n",
    "        if 0 < cantidad <= self.__saldo:\n",
    "            self.__saldo -= cantidad\n",
    "        else:\n",
    "            print(\"Fondos insuficientes o cantidad no válida.\")\n",
    "\n",
    "    def mostrar_saldo(self):\n",
    "        return f\"Saldo actual: {self.__saldo}\"\n"
   ]
  },
  {
   "cell_type": "code",
   "execution_count": 6,
   "metadata": {},
   "outputs": [
    {
     "name": "stdout",
     "output_type": "stream",
     "text": [
      "Saldo actual: 1500\n",
      "Saldo actual: 1200\n"
     ]
    }
   ],
   "source": [
    "# Uso de la clase\n",
    "cuenta = CuentaBancaria(\"Juan Pérez\", 1000)\n",
    "cuenta.depositar(500)\n",
    "print(cuenta.mostrar_saldo())  # Saldo actual: 1500\n",
    "cuenta.retirar(300)\n",
    "print(cuenta.mostrar_saldo())  # Saldo actual: 1200"
   ]
  },
  {
   "cell_type": "code",
   "execution_count": 7,
   "metadata": {},
   "outputs": [
    {
     "ename": "AttributeError",
     "evalue": "'CuentaBancaria' object has no attribute '__saldo'",
     "output_type": "error",
     "traceback": [
      "\u001b[0;31m---------------------------------------------------------------------------\u001b[0m",
      "\u001b[0;31mAttributeError\u001b[0m                            Traceback (most recent call last)",
      "Cell \u001b[0;32mIn[7], line 2\u001b[0m\n\u001b[1;32m      1\u001b[0m \u001b[38;5;66;03m# Intento de acceso directo al atributo privado (genera un error)\u001b[39;00m\n\u001b[0;32m----> 2\u001b[0m \u001b[38;5;28mprint\u001b[39m(\u001b[43mcuenta\u001b[49m\u001b[38;5;241;43m.\u001b[39;49m\u001b[43m__saldo\u001b[49m)  \u001b[38;5;66;03m# AttributeError: 'CuentaBancaria' object has no attribute '__saldo'\u001b[39;00m\n",
      "\u001b[0;31mAttributeError\u001b[0m: 'CuentaBancaria' object has no attribute '__saldo'"
     ]
    }
   ],
   "source": [
    "# Intento de acceso directo al atributo privado (genera un error)\n",
    "print(cuenta.__saldo)  # AttributeError: 'CuentaBancaria' object has no attribute '__saldo'"
   ]
  },
  {
   "cell_type": "markdown",
   "metadata": {},
   "source": [
    "# 2. Métodos de Acceso (Getters y Setters)\n",
    "\n",
    "Los métodos de acceso, comúnmente conocidos como getters y setters, se utilizan para obtener y modificar el valor de los atributos privados. Esto permite un control adicional sobre cómo se accede y se cambia el estado de un objeto."
   ]
  },
  {
   "cell_type": "code",
   "execution_count": 8,
   "metadata": {},
   "outputs": [],
   "source": [
    "class CuentaBancaria:\n",
    "    def __init__(self, titular, saldo):\n",
    "        self.titular = titular\n",
    "        self.__saldo = saldo\n",
    "\n",
    "    def get_saldo(self):\n",
    "        return self.__saldo\n",
    "\n",
    "    def set_saldo(self, nuevo_saldo):\n",
    "        if nuevo_saldo >= 0:\n",
    "            self.__saldo = nuevo_saldo\n",
    "        else:\n",
    "            print(\"El saldo no puede ser negativo.\")"
   ]
  },
  {
   "cell_type": "code",
   "execution_count": 9,
   "metadata": {},
   "outputs": [
    {
     "name": "stdout",
     "output_type": "stream",
     "text": [
      "1000\n",
      "2000\n",
      "El saldo no puede ser negativo.\n"
     ]
    }
   ],
   "source": [
    "# Uso de getters y setters\n",
    "cuenta = CuentaBancaria(\"Juan Pérez\", 1000)\n",
    "print(cuenta.get_saldo())  # Saldo actual: 1000\n",
    "\n",
    "cuenta.set_saldo(2000)     # Actualiza el saldo\n",
    "print(cuenta.get_saldo())  # Saldo actual: 2000\n",
    "\n",
    "cuenta.set_saldo(-500)     # Intento de establecer un saldo negativo (no permitido)\n"
   ]
  },
  {
   "cell_type": "markdown",
   "metadata": {},
   "source": [
    "# 3. Abstracción\n",
    "\n",
    "La abstracción es el proceso de ocultar los detalles de implementación y mostrar solo la funcionalidad esencial. En Python, la abstracción se logra utilizando clases y métodos abstractos.\n",
    "\n",
    "\n",
    "En este ejemplo, la clase FiguraGeometrica es abstracta y no se puede instanciar directamente. Sus métodos deben ser implementados en las clases derivadas como Rectangulo.\n"
   ]
  },
  {
   "cell_type": "code",
   "execution_count": 10,
   "metadata": {},
   "outputs": [],
   "source": [
    "from abc import ABC, abstractmethod\n",
    "\n",
    "class FiguraGeometrica(ABC):\n",
    "    @abstractmethod\n",
    "    def area(self):\n",
    "        pass\n",
    "\n",
    "    @abstractmethod\n",
    "    def perimetro(self):\n",
    "        pass\n",
    "\n",
    "class Rectangulo(FiguraGeometrica):\n",
    "    def __init__(self, ancho, alto):\n",
    "        self.ancho = ancho\n",
    "        self.alto = alto\n",
    "\n",
    "    def area(self):\n",
    "        return self.ancho * self.alto\n",
    "\n",
    "    def perimetro(self):\n",
    "        return 2 * (self.ancho + self.alto)\n"
   ]
  },
  {
   "cell_type": "code",
   "execution_count": 11,
   "metadata": {},
   "outputs": [
    {
     "name": "stdout",
     "output_type": "stream",
     "text": [
      "Área: 50\n",
      "Perímetro: 30\n"
     ]
    }
   ],
   "source": [
    "# Uso de la abstracción\n",
    "rectangulo = Rectangulo(5, 10)\n",
    "print(\"Área:\", rectangulo.area())          # Área: 50\n",
    "print(\"Perímetro:\", rectangulo.perimetro())  # Perímetro: 30"
   ]
  },
  {
   "cell_type": "markdown",
   "metadata": {},
   "source": [
    "# 4. Métodos y Atributos Privados\n",
    "\n",
    "\n",
    "En Python, los atributos y métodos privados se indican mediante un prefijo de doble guion bajo (__). Esto hace que sean inaccesibles directamente desde fuera de la clase.\n",
    "\n",
    "En este código, tanto el atributo __saldo como el método __actualizar_saldo son privados y no se pueden acceder directamente desde fuera de la clase, lo que refuerza la encapsulación."
   ]
  },
  {
   "cell_type": "code",
   "execution_count": 13,
   "metadata": {},
   "outputs": [],
   "source": [
    "class CuentaBancaria:\n",
    "    def __init__(self, titular, saldo):\n",
    "        self.titular = titular\n",
    "        self.__saldo = saldo  # Atributo privado\n",
    "\n",
    "    def __actualizar_saldo(self, cantidad):\n",
    "        self.__saldo += cantidad  # Método privado\n",
    "\n",
    "    def depositar(self, cantidad):\n",
    "        if cantidad > 0:\n",
    "            self.__actualizar_saldo(cantidad)\n",
    "        else:\n",
    "            print(\"Cantidad inválida.\")\n",
    "\n",
    "    def mostrar_saldo(self):\n",
    "        return f\"Saldo actual: {self.__saldo}\"\n"
   ]
  },
  {
   "cell_type": "code",
   "execution_count": 15,
   "metadata": {},
   "outputs": [
    {
     "name": "stdout",
     "output_type": "stream",
     "text": [
      "Saldo actual: 1500\n"
     ]
    }
   ],
   "source": [
    "# Uso de la clase con métodos privados\n",
    "cuenta = CuentaBancaria(\"Juan Pérez\", 1000)\n",
    "cuenta.depositar(500)\n",
    "print(cuenta.mostrar_saldo())  # Saldo actual: 1500"
   ]
  },
  {
   "cell_type": "code",
   "execution_count": 17,
   "metadata": {},
   "outputs": [
    {
     "ename": "AttributeError",
     "evalue": "'CuentaBancaria' object has no attribute '__actualizar_saldo'",
     "output_type": "error",
     "traceback": [
      "\u001b[0;31m---------------------------------------------------------------------------\u001b[0m",
      "\u001b[0;31mAttributeError\u001b[0m                            Traceback (most recent call last)",
      "Cell \u001b[0;32mIn[17], line 2\u001b[0m\n\u001b[1;32m      1\u001b[0m \u001b[38;5;66;03m# Intento de acceder directamente al método privado (genera un error)\u001b[39;00m\n\u001b[0;32m----> 2\u001b[0m \u001b[43mcuenta\u001b[49m\u001b[38;5;241;43m.\u001b[39;49m\u001b[43m__actualizar_saldo\u001b[49m(\u001b[38;5;241m1000\u001b[39m)  \u001b[38;5;66;03m# AttributeError: 'CuentaBancaria' object has no attribute '__actualizar_saldo'\u001b[39;00m\n",
      "\u001b[0;31mAttributeError\u001b[0m: 'CuentaBancaria' object has no attribute '__actualizar_saldo'"
     ]
    }
   ],
   "source": [
    "# Intento de acceder directamente al método privado (genera un error)\n",
    "cuenta.__actualizar_saldo(1000)  # AttributeError: 'CuentaBancaria' object has no attribute '__actualizar_saldo'"
   ]
  },
  {
   "cell_type": "code",
   "execution_count": null,
   "metadata": {},
   "outputs": [],
   "source": []
  }
 ],
 "metadata": {
  "kernelspec": {
   "display_name": "Python 3",
   "language": "python",
   "name": "python3"
  },
  "language_info": {
   "codemirror_mode": {
    "name": "ipython",
    "version": 3
   },
   "file_extension": ".py",
   "mimetype": "text/x-python",
   "name": "python",
   "nbconvert_exporter": "python",
   "pygments_lexer": "ipython3",
   "version": "3.10.12"
  }
 },
 "nbformat": 4,
 "nbformat_minor": 2
}
